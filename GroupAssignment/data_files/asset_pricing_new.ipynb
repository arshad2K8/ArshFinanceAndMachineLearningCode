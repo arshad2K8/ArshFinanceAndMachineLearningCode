{
  "cells": [
    {
      "cell_type": "code",
      "execution_count": null,
      "metadata": {
        "id": "ena6Me2duUP6"
      },
      "outputs": [],
      "source": [
        "import pandas as pd\n",
        "import numpy as np\n",
        "import matplotlib.pyplot as plt\n",
        "import seaborn as sns\n",
        "from pandas import Timestamp\n",
        "from tqdm import tqdm\n"
      ]
    },
    {
      "cell_type": "markdown",
      "metadata": {
        "id": "q1jnJYR5u2Lk"
      },
      "source": [
        "# Reading the data"
      ]
    },
    {
      "cell_type": "code",
      "execution_count": null,
      "metadata": {
        "id": "k1ZkZGhFuUP7"
      },
      "outputs": [],
      "source": [
        "pd.set_option('display.max_rows', 10)\n",
        "pd.set_option('display.max_columns', 10)"
      ]
    },
    {
      "cell_type": "code",
      "execution_count": null,
      "metadata": {
        "id": "pPRxpeDNuUP7"
      },
      "outputs": [],
      "source": [
        "# df_info = pd.read_csv('data_files/SignalDoc.csv')\n",
        "# df_info"
      ]
    },
    {
      "cell_type": "code",
      "execution_count": null,
      "metadata": {
        "id": "UtRtQnJRuUP8",
        "outputId": "68975f68-76a7-4122-c229-05c709796868"
      },
      "outputs": [
        {
          "data": {
            "text/html": [
              "<div>\n",
              "<style scoped>\n",
              "    .dataframe tbody tr th:only-of-type {\n",
              "        vertical-align: middle;\n",
              "    }\n",
              "\n",
              "    .dataframe tbody tr th {\n",
              "        vertical-align: top;\n",
              "    }\n",
              "\n",
              "    .dataframe thead th {\n",
              "        text-align: right;\n",
              "    }\n",
              "</style>\n",
              "<table border=\"1\" class=\"dataframe\">\n",
              "  <thead>\n",
              "    <tr style=\"text-align: right;\">\n",
              "      <th></th>\n",
              "      <th>permno</th>\n",
              "      <th>yyyymm</th>\n",
              "      <th>prc</th>\n",
              "      <th>ret</th>\n",
              "      <th>Price</th>\n",
              "      <th>Size</th>\n",
              "      <th>STreversal</th>\n",
              "      <th>MaxRet</th>\n",
              "      <th>High52</th>\n",
              "      <th>RealizedVol</th>\n",
              "      <th>...</th>\n",
              "      <th>MomSeason06YrPlus</th>\n",
              "      <th>MomOffSeason06YrPlus</th>\n",
              "      <th>grcapx</th>\n",
              "      <th>EntMult</th>\n",
              "      <th>Investment</th>\n",
              "      <th>PctTotAcc</th>\n",
              "      <th>EarnSupBig</th>\n",
              "      <th>EarningsSurprise</th>\n",
              "      <th>BetaTailRisk</th>\n",
              "      <th>CBOperProf</th>\n",
              "    </tr>\n",
              "  </thead>\n",
              "  <tbody>\n",
              "    <tr>\n",
              "      <th>0</th>\n",
              "      <td>10659</td>\n",
              "      <td>199102</td>\n",
              "      <td>-0.17188</td>\n",
              "      <td>-15.3846</td>\n",
              "      <td>1.760959</td>\n",
              "      <td>-8.844859</td>\n",
              "      <td>15.3846</td>\n",
              "      <td>0.000000</td>\n",
              "      <td>0.407414</td>\n",
              "      <td>-0.035295</td>\n",
              "      <td>...</td>\n",
              "      <td>NaN</td>\n",
              "      <td>NaN</td>\n",
              "      <td>0.799007</td>\n",
              "      <td>NaN</td>\n",
              "      <td>NaN</td>\n",
              "      <td>0.795044</td>\n",
              "      <td>-0.379424</td>\n",
              "      <td>-0.109776</td>\n",
              "      <td>NaN</td>\n",
              "      <td>-0.371791</td>\n",
              "    </tr>\n",
              "    <tr>\n",
              "      <th>1</th>\n",
              "      <td>10659</td>\n",
              "      <td>199103</td>\n",
              "      <td>-0.10938</td>\n",
              "      <td>-36.3636</td>\n",
              "      <td>2.212927</td>\n",
              "      <td>-8.392890</td>\n",
              "      <td>36.3636</td>\n",
              "      <td>0.000000</td>\n",
              "      <td>0.259268</td>\n",
              "      <td>-0.065733</td>\n",
              "      <td>...</td>\n",
              "      <td>NaN</td>\n",
              "      <td>NaN</td>\n",
              "      <td>0.799007</td>\n",
              "      <td>NaN</td>\n",
              "      <td>NaN</td>\n",
              "      <td>0.795044</td>\n",
              "      <td>-0.483346</td>\n",
              "      <td>-0.109776</td>\n",
              "      <td>NaN</td>\n",
              "      <td>-0.371791</td>\n",
              "    </tr>\n",
              "    <tr>\n",
              "      <th>2</th>\n",
              "      <td>10659</td>\n",
              "      <td>199104</td>\n",
              "      <td>-0.21875</td>\n",
              "      <td>100.0000</td>\n",
              "      <td>1.519826</td>\n",
              "      <td>-9.085992</td>\n",
              "      <td>-100.0000</td>\n",
              "      <td>-0.571429</td>\n",
              "      <td>0.518512</td>\n",
              "      <td>-0.127870</td>\n",
              "      <td>...</td>\n",
              "      <td>NaN</td>\n",
              "      <td>NaN</td>\n",
              "      <td>0.802281</td>\n",
              "      <td>NaN</td>\n",
              "      <td>-0.043613</td>\n",
              "      <td>0.439730</td>\n",
              "      <td>-0.470160</td>\n",
              "      <td>-0.050594</td>\n",
              "      <td>NaN</td>\n",
              "      <td>-0.138481</td>\n",
              "    </tr>\n",
              "    <tr>\n",
              "      <th>3</th>\n",
              "      <td>10659</td>\n",
              "      <td>199105</td>\n",
              "      <td>-0.21875</td>\n",
              "      <td>0.0000</td>\n",
              "      <td>1.519826</td>\n",
              "      <td>-9.085992</td>\n",
              "      <td>0.0000</td>\n",
              "      <td>-0.142857</td>\n",
              "      <td>0.518512</td>\n",
              "      <td>-0.045962</td>\n",
              "      <td>...</td>\n",
              "      <td>NaN</td>\n",
              "      <td>NaN</td>\n",
              "      <td>0.802281</td>\n",
              "      <td>NaN</td>\n",
              "      <td>-0.046697</td>\n",
              "      <td>0.439730</td>\n",
              "      <td>-0.498256</td>\n",
              "      <td>-0.050594</td>\n",
              "      <td>NaN</td>\n",
              "      <td>-0.138481</td>\n",
              "    </tr>\n",
              "    <tr>\n",
              "      <th>4</th>\n",
              "      <td>10659</td>\n",
              "      <td>199106</td>\n",
              "      <td>-0.20313</td>\n",
              "      <td>-7.1429</td>\n",
              "      <td>1.593909</td>\n",
              "      <td>-9.011908</td>\n",
              "      <td>7.1429</td>\n",
              "      <td>0.000000</td>\n",
              "      <td>0.481488</td>\n",
              "      <td>-0.015972</td>\n",
              "      <td>...</td>\n",
              "      <td>NaN</td>\n",
              "      <td>NaN</td>\n",
              "      <td>0.802281</td>\n",
              "      <td>NaN</td>\n",
              "      <td>-0.050251</td>\n",
              "      <td>0.439730</td>\n",
              "      <td>-0.116901</td>\n",
              "      <td>-0.050594</td>\n",
              "      <td>NaN</td>\n",
              "      <td>-0.138481</td>\n",
              "    </tr>\n",
              "    <tr>\n",
              "      <th>...</th>\n",
              "      <td>...</td>\n",
              "      <td>...</td>\n",
              "      <td>...</td>\n",
              "      <td>...</td>\n",
              "      <td>...</td>\n",
              "      <td>...</td>\n",
              "      <td>...</td>\n",
              "      <td>...</td>\n",
              "      <td>...</td>\n",
              "      <td>...</td>\n",
              "      <td>...</td>\n",
              "      <td>...</td>\n",
              "      <td>...</td>\n",
              "      <td>...</td>\n",
              "      <td>...</td>\n",
              "      <td>...</td>\n",
              "      <td>...</td>\n",
              "      <td>...</td>\n",
              "      <td>...</td>\n",
              "      <td>...</td>\n",
              "      <td>...</td>\n",
              "    </tr>\n",
              "    <tr>\n",
              "      <th>4994023</th>\n",
              "      <td>10232</td>\n",
              "      <td>198604</td>\n",
              "      <td>NaN</td>\n",
              "      <td>NaN</td>\n",
              "      <td>NaN</td>\n",
              "      <td>NaN</td>\n",
              "      <td>0.0000</td>\n",
              "      <td>NaN</td>\n",
              "      <td>NaN</td>\n",
              "      <td>NaN</td>\n",
              "      <td>...</td>\n",
              "      <td>NaN</td>\n",
              "      <td>NaN</td>\n",
              "      <td>NaN</td>\n",
              "      <td>NaN</td>\n",
              "      <td>NaN</td>\n",
              "      <td>NaN</td>\n",
              "      <td>NaN</td>\n",
              "      <td>NaN</td>\n",
              "      <td>NaN</td>\n",
              "      <td>NaN</td>\n",
              "    </tr>\n",
              "    <tr>\n",
              "      <th>4994024</th>\n",
              "      <td>10274</td>\n",
              "      <td>198604</td>\n",
              "      <td>NaN</td>\n",
              "      <td>NaN</td>\n",
              "      <td>NaN</td>\n",
              "      <td>NaN</td>\n",
              "      <td>0.0000</td>\n",
              "      <td>NaN</td>\n",
              "      <td>NaN</td>\n",
              "      <td>NaN</td>\n",
              "      <td>...</td>\n",
              "      <td>NaN</td>\n",
              "      <td>NaN</td>\n",
              "      <td>NaN</td>\n",
              "      <td>NaN</td>\n",
              "      <td>NaN</td>\n",
              "      <td>NaN</td>\n",
              "      <td>NaN</td>\n",
              "      <td>NaN</td>\n",
              "      <td>NaN</td>\n",
              "      <td>NaN</td>\n",
              "    </tr>\n",
              "    <tr>\n",
              "      <th>4994025</th>\n",
              "      <td>10301</td>\n",
              "      <td>198604</td>\n",
              "      <td>NaN</td>\n",
              "      <td>NaN</td>\n",
              "      <td>NaN</td>\n",
              "      <td>NaN</td>\n",
              "      <td>0.0000</td>\n",
              "      <td>NaN</td>\n",
              "      <td>NaN</td>\n",
              "      <td>NaN</td>\n",
              "      <td>...</td>\n",
              "      <td>NaN</td>\n",
              "      <td>NaN</td>\n",
              "      <td>NaN</td>\n",
              "      <td>NaN</td>\n",
              "      <td>NaN</td>\n",
              "      <td>NaN</td>\n",
              "      <td>NaN</td>\n",
              "      <td>NaN</td>\n",
              "      <td>NaN</td>\n",
              "      <td>NaN</td>\n",
              "    </tr>\n",
              "    <tr>\n",
              "      <th>4994026</th>\n",
              "      <td>10326</td>\n",
              "      <td>198605</td>\n",
              "      <td>NaN</td>\n",
              "      <td>NaN</td>\n",
              "      <td>NaN</td>\n",
              "      <td>NaN</td>\n",
              "      <td>0.0000</td>\n",
              "      <td>NaN</td>\n",
              "      <td>NaN</td>\n",
              "      <td>NaN</td>\n",
              "      <td>...</td>\n",
              "      <td>NaN</td>\n",
              "      <td>NaN</td>\n",
              "      <td>NaN</td>\n",
              "      <td>NaN</td>\n",
              "      <td>NaN</td>\n",
              "      <td>NaN</td>\n",
              "      <td>NaN</td>\n",
              "      <td>NaN</td>\n",
              "      <td>NaN</td>\n",
              "      <td>NaN</td>\n",
              "    </tr>\n",
              "    <tr>\n",
              "      <th>4994027</th>\n",
              "      <td>10362</td>\n",
              "      <td>198605</td>\n",
              "      <td>NaN</td>\n",
              "      <td>NaN</td>\n",
              "      <td>NaN</td>\n",
              "      <td>NaN</td>\n",
              "      <td>0.0000</td>\n",
              "      <td>NaN</td>\n",
              "      <td>NaN</td>\n",
              "      <td>NaN</td>\n",
              "      <td>...</td>\n",
              "      <td>NaN</td>\n",
              "      <td>NaN</td>\n",
              "      <td>NaN</td>\n",
              "      <td>NaN</td>\n",
              "      <td>NaN</td>\n",
              "      <td>NaN</td>\n",
              "      <td>NaN</td>\n",
              "      <td>NaN</td>\n",
              "      <td>NaN</td>\n",
              "      <td>NaN</td>\n",
              "    </tr>\n",
              "  </tbody>\n",
              "</table>\n",
              "<p>4994028 rows × 119 columns</p>\n",
              "</div>"
            ],
            "text/plain": [
              "         permno  yyyymm      prc       ret     Price      Size  STreversal  \\\n",
              "0         10659  199102 -0.17188  -15.3846  1.760959 -8.844859     15.3846   \n",
              "1         10659  199103 -0.10938  -36.3636  2.212927 -8.392890     36.3636   \n",
              "2         10659  199104 -0.21875  100.0000  1.519826 -9.085992   -100.0000   \n",
              "3         10659  199105 -0.21875    0.0000  1.519826 -9.085992      0.0000   \n",
              "4         10659  199106 -0.20313   -7.1429  1.593909 -9.011908      7.1429   \n",
              "...         ...     ...      ...       ...       ...       ...         ...   \n",
              "4994023   10232  198604      NaN       NaN       NaN       NaN      0.0000   \n",
              "4994024   10274  198604      NaN       NaN       NaN       NaN      0.0000   \n",
              "4994025   10301  198604      NaN       NaN       NaN       NaN      0.0000   \n",
              "4994026   10326  198605      NaN       NaN       NaN       NaN      0.0000   \n",
              "4994027   10362  198605      NaN       NaN       NaN       NaN      0.0000   \n",
              "\n",
              "           MaxRet    High52  RealizedVol  ...  MomSeason06YrPlus  \\\n",
              "0        0.000000  0.407414    -0.035295  ...                NaN   \n",
              "1        0.000000  0.259268    -0.065733  ...                NaN   \n",
              "2       -0.571429  0.518512    -0.127870  ...                NaN   \n",
              "3       -0.142857  0.518512    -0.045962  ...                NaN   \n",
              "4        0.000000  0.481488    -0.015972  ...                NaN   \n",
              "...           ...       ...          ...  ...                ...   \n",
              "4994023       NaN       NaN          NaN  ...                NaN   \n",
              "4994024       NaN       NaN          NaN  ...                NaN   \n",
              "4994025       NaN       NaN          NaN  ...                NaN   \n",
              "4994026       NaN       NaN          NaN  ...                NaN   \n",
              "4994027       NaN       NaN          NaN  ...                NaN   \n",
              "\n",
              "         MomOffSeason06YrPlus    grcapx  EntMult  Investment  PctTotAcc  \\\n",
              "0                         NaN  0.799007      NaN         NaN   0.795044   \n",
              "1                         NaN  0.799007      NaN         NaN   0.795044   \n",
              "2                         NaN  0.802281      NaN   -0.043613   0.439730   \n",
              "3                         NaN  0.802281      NaN   -0.046697   0.439730   \n",
              "4                         NaN  0.802281      NaN   -0.050251   0.439730   \n",
              "...                       ...       ...      ...         ...        ...   \n",
              "4994023                   NaN       NaN      NaN         NaN        NaN   \n",
              "4994024                   NaN       NaN      NaN         NaN        NaN   \n",
              "4994025                   NaN       NaN      NaN         NaN        NaN   \n",
              "4994026                   NaN       NaN      NaN         NaN        NaN   \n",
              "4994027                   NaN       NaN      NaN         NaN        NaN   \n",
              "\n",
              "         EarnSupBig  EarningsSurprise  BetaTailRisk  CBOperProf  \n",
              "0         -0.379424         -0.109776           NaN   -0.371791  \n",
              "1         -0.483346         -0.109776           NaN   -0.371791  \n",
              "2         -0.470160         -0.050594           NaN   -0.138481  \n",
              "3         -0.498256         -0.050594           NaN   -0.138481  \n",
              "4         -0.116901         -0.050594           NaN   -0.138481  \n",
              "...             ...               ...           ...         ...  \n",
              "4994023         NaN               NaN           NaN         NaN  \n",
              "4994024         NaN               NaN           NaN         NaN  \n",
              "4994025         NaN               NaN           NaN         NaN  \n",
              "4994026         NaN               NaN           NaN         NaN  \n",
              "4994027         NaN               NaN           NaN         NaN  \n",
              "\n",
              "[4994028 rows x 119 columns]"
            ]
          },
          "execution_count": 3,
          "metadata": {},
          "output_type": "execute_result"
        }
      ],
      "source": [
        "data_df = pd.read_csv('data_files/crspm_and_predictors.csv')\n",
        "data_df"
      ]
    },
    {
      "cell_type": "code",
      "execution_count": null,
      "metadata": {
        "collapsed": true,
        "id": "5rjhtuXXuUP9",
        "outputId": "cf6543a5-7c38-43b9-bb25-1d4081fce235"
      },
      "outputs": [
        {
          "data": {
            "text/html": [
              "<div>\n",
              "<style scoped>\n",
              "    .dataframe tbody tr th:only-of-type {\n",
              "        vertical-align: middle;\n",
              "    }\n",
              "\n",
              "    .dataframe tbody tr th {\n",
              "        vertical-align: top;\n",
              "    }\n",
              "\n",
              "    .dataframe thead th {\n",
              "        text-align: right;\n",
              "    }\n",
              "</style>\n",
              "<table border=\"1\" class=\"dataframe\">\n",
              "  <thead>\n",
              "    <tr style=\"text-align: right;\">\n",
              "      <th></th>\n",
              "      <th>observation_date</th>\n",
              "      <th>TB3MS</th>\n",
              "    </tr>\n",
              "  </thead>\n",
              "  <tbody>\n",
              "    <tr>\n",
              "      <th>0</th>\n",
              "      <td>1934-01-01</td>\n",
              "      <td>0.72</td>\n",
              "    </tr>\n",
              "    <tr>\n",
              "      <th>1</th>\n",
              "      <td>1934-02-01</td>\n",
              "      <td>0.62</td>\n",
              "    </tr>\n",
              "    <tr>\n",
              "      <th>2</th>\n",
              "      <td>1934-03-01</td>\n",
              "      <td>0.24</td>\n",
              "    </tr>\n",
              "    <tr>\n",
              "      <th>3</th>\n",
              "      <td>1934-04-01</td>\n",
              "      <td>0.15</td>\n",
              "    </tr>\n",
              "    <tr>\n",
              "      <th>4</th>\n",
              "      <td>1934-05-01</td>\n",
              "      <td>0.16</td>\n",
              "    </tr>\n",
              "    <tr>\n",
              "      <th>...</th>\n",
              "      <td>...</td>\n",
              "      <td>...</td>\n",
              "    </tr>\n",
              "    <tr>\n",
              "      <th>1089</th>\n",
              "      <td>2024-10-01</td>\n",
              "      <td>4.51</td>\n",
              "    </tr>\n",
              "    <tr>\n",
              "      <th>1090</th>\n",
              "      <td>2024-11-01</td>\n",
              "      <td>4.42</td>\n",
              "    </tr>\n",
              "    <tr>\n",
              "      <th>1091</th>\n",
              "      <td>2024-12-01</td>\n",
              "      <td>4.27</td>\n",
              "    </tr>\n",
              "    <tr>\n",
              "      <th>1092</th>\n",
              "      <td>2025-01-01</td>\n",
              "      <td>4.21</td>\n",
              "    </tr>\n",
              "    <tr>\n",
              "      <th>1093</th>\n",
              "      <td>2025-02-01</td>\n",
              "      <td>4.22</td>\n",
              "    </tr>\n",
              "  </tbody>\n",
              "</table>\n",
              "<p>1094 rows × 2 columns</p>\n",
              "</div>"
            ],
            "text/plain": [
              "     observation_date  TB3MS\n",
              "0          1934-01-01   0.72\n",
              "1          1934-02-01   0.62\n",
              "2          1934-03-01   0.24\n",
              "3          1934-04-01   0.15\n",
              "4          1934-05-01   0.16\n",
              "...               ...    ...\n",
              "1089       2024-10-01   4.51\n",
              "1090       2024-11-01   4.42\n",
              "1091       2024-12-01   4.27\n",
              "1092       2025-01-01   4.21\n",
              "1093       2025-02-01   4.22\n",
              "\n",
              "[1094 rows x 2 columns]"
            ]
          },
          "execution_count": 4,
          "metadata": {},
          "output_type": "execute_result"
        }
      ],
      "source": [
        "rf_rates = pd.read_csv('TB3MS.csv')\n",
        "rf_rates"
      ]
    },
    {
      "cell_type": "code",
      "execution_count": null,
      "metadata": {
        "colab": {
          "base_uri": "https://localhost:8080/"
        },
        "id": "UgNQbNV1v2oE",
        "outputId": "3e4e0dbc-663d-4191-d7ba-b17c3cd901d6"
      },
      "outputs": [
        {
          "data": {
            "text/plain": [
              "(139647, 120)"
            ]
          },
          "execution_count": 20,
          "metadata": {},
          "output_type": "execute_result"
        }
      ],
      "source": [
        "# # it is giving diff rows every time,\n",
        "# # every time rows are increasing, maybe due to some limits of colab\n",
        "# df = pd.read_csv('sample.csv', low_memory=False, engine='c')\n",
        "# df.shape"
      ]
    },
    {
      "cell_type": "code",
      "execution_count": null,
      "metadata": {
        "id": "4Dt0ASwulz-P"
      },
      "outputs": [],
      "source": [
        "rf_rates['observation_date'] = pd.to_datetime(rf_rates['observation_date'], format='%Y-%m-%d')\n",
        "data_df['yyyymm'] = pd.to_datetime(data_df['yyyymm'], format='%Y%m') #df.loc[:, 'yyyymm']"
      ]
    },
    {
      "cell_type": "code",
      "source": [
        "df_init = pd.merge(data_df, rf_rates, left_on='yyyymm',\n",
        "                        right_on='observation_date', how='left')\n",
        "\n",
        "df_init.drop(columns=['observation_date'], inplace=True)\n",
        "df_init.rename(columns={'TB3MS': 'RiskFree', 'yyyymm': 'date'}, inplace=True)\n",
        "df_init['ExcessReturn'] = df_init['ret'] - df_init['RiskFree']\n",
        "df_init.reset_index(drop=True, inplace=True)\n",
        "\n",
        "not_pred = ['permno', 'date', 'prc', 'ret', 'Price', 'RiskFree', 'ExcessReturn']\n",
        "pred = [c for c in df_init.columns if c not in not_pred]\n",
        "\n",
        "x = df_init.drop(columns=not_pred).copy()\n",
        "y = df_init['ExcessReturn'].copy()\n",
        "correlations = x.corrwith(y)\n",
        "correlations.sort_values(ascending=False, inplace=True)\n",
        "\n",
        "correlations\n"
      ],
      "metadata": {
        "id": "DQrjB_R332fM"
      },
      "execution_count": null,
      "outputs": []
    },
    {
      "cell_type": "markdown",
      "metadata": {
        "id": "1I5niSSho3yg"
      },
      "source": [
        "# Sampling /skiping for now"
      ]
    },
    {
      "cell_type": "code",
      "execution_count": null,
      "metadata": {
        "collapsed": true,
        "id": "zkxE0xWnuUQA"
      },
      "outputs": [],
      "source": [
        "# need to be changed according to data\n",
        "filtered_tb3ms = rf_rates[(rf_rates['observation_date'] >= '1990-01-01') &\n",
        "                          (rf_rates['observation_date'] <= '2000-12-01')]\n",
        "\n",
        "filtered_tb3ms.reset_index(drop=True, inplace=True)"
      ]
    },
    {
      "cell_type": "code",
      "execution_count": null,
      "metadata": {
        "collapsed": true,
        "id": "5lNbXEBayQh0"
      },
      "outputs": [],
      "source": [
        "df = data_df.copy()\n",
        "df = df[(df['yyyymm'] >= '1990-01-01') &\n",
        "        (df['yyyymm'] <= '2000-12-01')]\n",
        "df.reset_index(drop=True, inplace=True)"
      ]
    },
    {
      "cell_type": "markdown",
      "metadata": {
        "id": "tUVwsi0HqASX"
      },
      "source": [
        "# Cleaning"
      ]
    },
    {
      "cell_type": "markdown",
      "metadata": {
        "id": "0_3vqAadJhWR"
      },
      "source": [
        "Variables: The dataset includes a unique firm identifier (permno), date,\n",
        " stock price (prc), stock return in percentage units adjusted for delisting (ret), and a variable named Signed Price (Price). In addition, there are 114 predictor variables (signals)."
      ]
    },
    {
      "cell_type": "code",
      "execution_count": null,
      "metadata": {
        "id": "m2siY-vLJ1W9"
      },
      "outputs": [],
      "source": [
        "# Merge the DataFrames based on the date columns\n",
        "merged_df = pd.merge(df, filtered_tb3ms, left_on='yyyymm',\n",
        "                        right_on='observation_date', how='left')"
      ]
    },
    {
      "cell_type": "code",
      "execution_count": null,
      "metadata": {
        "collapsed": true,
        "id": "PCCLcy8VKURJ"
      },
      "outputs": [],
      "source": [
        "merged_df.drop(columns=['observation_date'], inplace=True)\n",
        "merged_df.rename(columns={'TB3MS': 'RiskFree', 'yyyymm': 'date'}, inplace=True)"
      ]
    },
    {
      "cell_type": "code",
      "execution_count": null,
      "metadata": {
        "id": "KuQJCpWLrftJ"
      },
      "outputs": [],
      "source": [
        "merged_df['ExcessReturn'] = merged_df['ret'] - merged_df['RiskFree']\n",
        "merged_df = merged_df.replace({-np.inf: np.nan, np.inf: np.nan})\n",
        "merged_df.sort_values(['date', 'permno'], inplace=True)\n",
        "merged_df.reset_index(drop=True, inplace=True)\n",
        "\n",
        "non_nan_col = merged_df[['permno', 'date']].copy()\n",
        "numeric_df = merged_df.drop(columns=['permno', 'date'])\n",
        "\n",
        "# features_df = merged_df.drop(columns=['permno', 'date', 'prc', 'Price', 'ret', 'RiskFree'])\n",
        "\n",
        "# mask_miss_features = np.isnan(features_df) # need to use this after scaling\n",
        "# mask_miss_features = pd.concat([non_nan_col, mask_miss_features], axis=1)\n",
        "\n",
        "mask_missing = np.isnan(numeric_df)\n",
        "mask_missing = pd.concat([non_nan_col, mask_missing], axis=1)\n",
        "\n",
        "numeric_df = numeric_df.fillna(0)\n",
        "merged_df = pd.concat([non_nan_col, numeric_df], axis=1)"
      ]
    },
    {
      "cell_type": "markdown",
      "metadata": {
        "id": "cCCpABl3-sap"
      },
      "source": [
        "# -------------------"
      ]
    },
    {
      "cell_type": "code",
      "execution_count": null,
      "metadata": {
        "id": "OJvnygiv-sap"
      },
      "outputs": [],
      "source": [
        "# Out of sample R2 function\n",
        "def r2_oos(y_true, y_pred):\n",
        "    return 1 - np.sum((y_true - y_pred)**2) / np.sum(y_true**2)"
      ]
    },
    {
      "cell_type": "code",
      "execution_count": null,
      "metadata": {
        "id": "VV1UNuyT-sap"
      },
      "outputs": [],
      "source": [
        "# our data is 1990-2000\n",
        "TRAIN_END = '1995-12-31'\n",
        "VALIDATION_END = '1997-12-31'\n"
      ]
    },
    {
      "cell_type": "markdown",
      "metadata": {
        "id": "MoYorNMKqb2q"
      },
      "source": [
        "# CAPM"
      ]
    },
    {
      "cell_type": "markdown",
      "metadata": {
        "id": "BZ988EnzcJAe"
      },
      "source": [
        "CAPM:  E[return] = risk_free + betta*(E[market_ret] - risk_free)\n",
        "\n",
        "\n",
        "E[market_ret] - risk_free is market risk premium"
      ]
    },
    {
      "cell_type": "code",
      "execution_count": null,
      "metadata": {
        "id": "KpvJ4VY4d1Bu"
      },
      "outputs": [],
      "source": [
        "df_metrics = merged_df[['permno',\t'date',\t'prc',\t'ret',\t'Price','RiskFree']].copy()\n",
        "df_metrics['ExcessReturn'] = df_metrics['ret'] - df_metrics['RiskFree']\n",
        "\n",
        "df_metrics['MarketReturn'] = df_metrics.groupby('date')['ret'].transform('mean')\n",
        "df_metrics['MarketExcessReturn'] = df_metrics['MarketReturn'] - df_metrics['RiskFree']\n",
        "df_metrics.sort_values('date', inplace=True)\n",
        "df_market_return = df_metrics[['date', 'MarketReturn']].drop_duplicates().reset_index(drop=True)\n",
        "\n",
        "df_metrics.reset_index(drop=True, inplace=True)\n",
        "df_metrics"
      ]
    },
    {
      "cell_type": "code",
      "execution_count": null,
      "metadata": {
        "id": "Oi-9dM0W-saq"
      },
      "outputs": [],
      "source": [
        "def estimate_beta_rolling(group, window=36):\n",
        "    \"\"\"\n",
        "    Estimate beta for a stock using a rolling window of past returns\n",
        "\"\"\"\n",
        "    # Sort by date to ensure chronological order\n",
        "    group = group.sort_values('date')\n",
        "\n",
        "    group['beta'] = np.nan\n",
        "\n",
        "    # For each time point, calculate beta using previous 'window' months\n",
        "    for i in range(window, len(group)):\n",
        "        # Get the relevant data from the rolling window\n",
        "        window_data = group.iloc[i-window:i]\n",
        "\n",
        "        cov_stock_market = np.cov(window_data['ExcessReturn'], window_data['MarketExcessReturn'])[0, 1]\n",
        "        var_market = np.var(window_data['MarketExcessReturn'])\n",
        "\n",
        "        # Calculate beta as cov(stock, market) / var(market)\n",
        "        if var_market != 0:\n",
        "            group.loc[group.index[i], 'beta'] = cov_stock_market / var_market\n",
        "\n",
        "    return group\n"
      ]
    },
    {
      "cell_type": "code",
      "execution_count": null,
      "metadata": {
        "id": "mH5wzMsU-saq"
      },
      "outputs": [],
      "source": [
        "# tqdm.pandas(disable=None)\n",
        "\n",
        "# Apply the rolling beta estimation to each stock\n",
        "df_with_beta = df_metrics.groupby('permno').apply(estimate_beta_rolling).reset_index(drop=True)\n",
        "\n",
        "# Step 3: Use CAPM to predict returns\n",
        "df_with_beta['CAPM_Predicted'] = df_with_beta['beta'] * df_with_beta['MarketExcessReturn']\n",
        "\n",
        "# # Step 4: Evaluate the CAPM model's performance\n",
        "# # We'll define a test period (for example, the last 30% of the data chronologically)\n",
        "# all_dates = sorted(df_with_beta['date'].unique())\n",
        "# split_index = int(len(all_dates) * 0.7)  # 70% training, 30% testing\n",
        "# test_start_date = all_dates[split_index]\n",
        "\n",
        "df_with_beta"
      ]
    },
    {
      "cell_type": "code",
      "execution_count": null,
      "metadata": {
        "id": "_x1BCgtT-saq"
      },
      "outputs": [],
      "source": [
        "test_data = df_with_beta[df_with_beta['date'] >= VALIDATION_END].copy()\n",
        "test_data = test_data.dropna(subset=['CAPM_Predicted', 'ExcessReturn'])\n",
        "\n",
        "r_squared_capm = r2_oos(test_data['ExcessReturn'], test_data['CAPM_Predicted'])\n",
        "mae_capm = np.mean(np.abs(test_data['ExcessReturn'] - test_data['CAPM_Predicted']))\n",
        "mse_capm = np.mean((test_data['ExcessReturn'] - test_data['CAPM_Predicted'])**2)\n",
        "avg_beta = test_data['beta'].mean()\n"
      ]
    },
    {
      "cell_type": "code",
      "execution_count": null,
      "metadata": {
        "id": "77RuOMIq-saq",
        "outputId": "e86e7db4-6d8f-45a4-8d91-7886a6dfd36a"
      },
      "outputs": [
        {
          "data": {
            "image/png": "[encoded data removed]",
            "text/plain": [
              "<Figure size 800x500 with 1 Axes>"
            ]
          },
          "metadata": {},
          "output_type": "display_data"
        }
      ],
      "source": [
        "plt.figure(figsize=(8, 5))\n",
        "\n",
        "# Scatter plot of predicted vs actual\n",
        "plt.scatter(test_data['CAPM_Predicted'], test_data['ExcessReturn'], alpha=0.1, color='blue')\n",
        "\n",
        "# reference line (perfect prediction)\n",
        "plt.axline([0, 0], [1, 1], color='red', linestyle='--', label='Perfect Prediction')\n",
        "\n",
        "metrics_text = (\n",
        "    f\"Out-of-Sample R²: {r_squared_capm:.2f}\\n\"\n",
        "    f\"Mean Absolute Error: {mae_capm:.2f}\\n\"\n",
        "    f\"Mean Squared Error: {mse_capm:.2f}\\n\"\n",
        "    f\"Average Beta: {avg_beta:.2f}\"\n",
        ")\n",
        "\n",
        "plt.text(0.05, 0.95, metrics_text, transform=plt.gca().transAxes,\n",
        "         verticalalignment='top', bbox=dict(boxstyle='round', facecolor='white', alpha=0.8))\n",
        "\n",
        "plt.xlabel('CAPM Predicted Excess Return')\n",
        "plt.ylabel('Actual Excess Return')\n",
        "plt.title('CAPM Model: Predicted vs Actual Returns')\n",
        "plt.grid(True, alpha=0.2)\n",
        "plt.legend()\n",
        "\n",
        "plt.tight_layout()\n",
        "plt.show()"
      ]
    },
    {
      "cell_type": "markdown",
      "metadata": {
        "id": "n-gTOqz7BMnb"
      },
      "source": [
        "# -----------------------------\n"
      ]
    },
    {
      "cell_type": "code",
      "execution_count": null,
      "metadata": {
        "colab": {
          "base_uri": "https://localhost:8080/"
        },
        "id": "eywLcO0phLdj",
        "outputId": "142a7f9d-b6ad-4715-d265-355d7c34fad1"
      },
      "outputs": [
        {
          "data": {
            "text/plain": [
              "114"
            ]
          },
          "execution_count": 26,
          "metadata": {},
          "output_type": "execute_result"
        }
      ],
      "source": [
        "predictor_vars = [c for c in merged_df.columns if c not in ['permno', 'date', 'prc', 'ret',\t'Price', 'RiskFree', 'ExcessReturn']]\n",
        "len(predictor_vars)"
      ]
    },
    {
      "cell_type": "markdown",
      "metadata": {
        "id": "JXu38JDH5wAE"
      },
      "source": [
        "# Scaling"
      ]
    },
    {
      "cell_type": "code",
      "execution_count": null,
      "metadata": {
        "id": "vUPBT03NnWw7"
      },
      "outputs": [],
      "source": [
        "from sklearn.preprocessing import MinMaxScaler\n",
        "\n",
        "scaler = MinMaxScaler(feature_range=(-1, 1))\n",
        "\n",
        "# Create masks for each period\n",
        "train_mask = merged_df['date'] <= TRAIN_END\n",
        "valid_mask = (merged_df['date'] > TRAIN_END) & (merged_df['date'] <= VALIDATION_END)\n",
        "test_mask = merged_df['date'] > VALIDATION_END\n"
      ]
    },
    {
      "cell_type": "code",
      "source": [
        "train_mask_features = mask_missing[mask_missing['date'] <= TRAIN_END][predictor_vars].copy()\n",
        "valid_mask_features = mask_missing[(mask_missing['date'] > TRAIN_END) & (mask_missing['date'] <= VALIDATION_END)][predictor_vars].copy()\n",
        "test_mask_features = mask_missing[mask_missing['date'] > VALIDATION_END][predictor_vars].copy()\n",
        "\n",
        "train_mask_features"
      ],
      "metadata": {
        "id": "gQL7uHs9krh8"
      },
      "execution_count": null,
      "outputs": []
    },
    {
      "cell_type": "code",
      "execution_count": null,
      "metadata": {
        "id": "70UhmElx0QJA"
      },
      "outputs": [],
      "source": [
        "# Extract features and target for each period\n",
        "X_train = merged_df.loc[train_mask, predictor_vars].copy()\n",
        "X_valid = merged_df.loc[valid_mask, predictor_vars].copy()\n",
        "X_test = merged_df.loc[test_mask, predictor_vars].copy()\n",
        "\n",
        "y_train = merged_df.loc[train_mask, 'ExcessReturn'].copy().fillna(0)\n",
        "y_valid = merged_df.loc[valid_mask, 'ExcessReturn'].copy().fillna(0)\n",
        "y_test = merged_df.loc[test_mask, 'ExcessReturn'].copy().fillna(0)\n",
        "\n",
        "X_train"
      ]
    },
    {
      "cell_type": "code",
      "execution_count": null,
      "metadata": {
        "id": "1JNhNEH02ATk"
      },
      "outputs": [],
      "source": [
        "X_train_scaled = scaler.fit_transform(X_train)\n",
        "\n",
        "# Apply same transformation to validation and test\n",
        "X_valid_scaled = scaler.transform(X_valid)\n",
        "X_test_scaled = scaler.transform(X_test)\n"
      ]
    },
    {
      "cell_type": "code",
      "execution_count": null,
      "metadata": {
        "id": "qwk4P5ur2Hy0"
      },
      "outputs": [],
      "source": [
        "# Clip validation and test to [-1, 1] to handle outliers\n",
        "X_valid_scaled = np.clip(X_valid_scaled, -1, 1)\n",
        "X_test_scaled = np.clip(X_test_scaled, -1, 1)\n",
        "\n",
        "# replace initial nan/inf values with 0\n",
        "X_train_scaled[mask_missing.loc[train_mask, predictor_vars]] = 0\n",
        "X_valid_scaled[mask_missing.loc[valid_mask, predictor_vars]] = 0\n",
        "X_test_scaled[mask_missing.loc[test_mask, predictor_vars]] = 0\n",
        "\n",
        "\n",
        "# Convert back to DataFrames\n",
        "X_train_processed = pd.DataFrame(X_train_scaled, columns=predictor_vars, index=X_train.index)\n",
        "X_valid_processed = pd.DataFrame(X_valid_scaled, columns=predictor_vars, index=X_valid.index)\n",
        "X_test_processed = pd.DataFrame(X_test_scaled, columns=predictor_vars, index=X_test.index)\n"
      ]
    },
    {
      "cell_type": "code",
      "execution_count": null,
      "metadata": {
        "id": "779nLPju-_xB"
      },
      "outputs": [],
      "source": [
        "for dataset, name in [(X_train_processed, \"Training\"),\n",
        "                      (X_valid_processed, \"Validation\"),\n",
        "                      (X_test_processed, \"Testing\")]:\n",
        "    print(f\"\\n{name} dataset:\")\n",
        "    print(f\"Min values: {dataset.min().min():.4f}\")\n",
        "    print(f\"Max values: {dataset.max().max():.4f}\")\n",
        "    print(f\"NaN count: {dataset.isna().sum().sum()}\")\n",
        "    print(f\"Sample size: {len(dataset)}\")"
      ]
    },
    {
      "cell_type": "markdown",
      "metadata": {
        "id": "fLA28GJLCNSG"
      },
      "source": [
        "# ML models"
      ]
    },
    {
      "cell_type": "code",
      "execution_count": null,
      "metadata": {
        "id": "vTBaFBkP315E"
      },
      "outputs": [],
      "source": [
        "from sklearn.linear_model import LinearRegression, Ridge, Lasso, ElasticNet\n",
        "from sklearn.ensemble import RandomForestRegressor, GradientBoostingRegressor\n",
        "from sklearn.metrics import mean_squared_error, r2_score\n",
        "from tqdm import tqdm\n",
        "import time\n",
        "import os\n",
        "\n",
        "# Check for GPU availability\n",
        "try:\n",
        "    import torch\n",
        "    gpu_available = torch.cuda.is_available()\n",
        "    if gpu_available:\n",
        "        gpu_name = torch.cuda.get_device_name(0)\n",
        "except ImportError:\n",
        "    gpu_available = False\n"
      ]
    },
    {
      "cell_type": "code",
      "execution_count": null,
      "metadata": {
        "id": "yv9UWBPOBf5M"
      },
      "outputs": [],
      "source": [
        "def evaluate_model(model, model_name, X_train, y_train, X_valid, y_valid, X_test, y_test):\n",
        "    print(f\"---{model_name} Evaluation---\")\n",
        "\n",
        "    print(f\"\\nTraining...\")\n",
        "    start_time = time.time()\n",
        "    model.fit(X_train, y_train)\n",
        "    train_time = time.time() - start_time\n",
        "    print(f\"Training completed in {train_time:.2f} seconds\")\n",
        "\n",
        "    train_pred = model.predict(X_train)\n",
        "\n",
        "    print(\"\\nGenerating predictions...\")\n",
        "    start_time = time.time()\n",
        "    valid_pred = model.predict(X_valid)\n",
        "    test_pred = model.predict(X_test)\n",
        "    pred_time = time.time() - start_time\n",
        "    print(f\"Prediction completed in {pred_time:.2f} seconds\")\n",
        "\n",
        "    print(\"\\nCalculating metrics...\")\n",
        "    results = {\n",
        "        'train_mse': mean_squared_error(y_train, train_pred),\n",
        "        'train_r2_oos': r2_oos(y_train, train_pred),\n",
        "        'valid_mse': mean_squared_error(y_valid, valid_pred),\n",
        "        'valid_r2_oos': r2_oos(y_valid, valid_pred),\n",
        "        'test_mse': mean_squared_error(y_test, test_pred),\n",
        "        'test_r2_oos': r2_oos(y_test, test_pred),\n",
        "        'train_time': train_time,\n",
        "        'pred_time': pred_time #test + valid\n",
        "    }\n",
        "\n",
        "    results['train_pred'] = train_pred\n",
        "    results['valid_pred'] = valid_pred\n",
        "    results['test_pred'] = test_pred\n",
        "\n",
        "    print(f\"\"\"Train R² OOS: {results['train_r2_oos']:.2f} \\nValidation R² OOS: {results['valid_r2_oos']:.2f} \\nTest R² OOS: {results['test_r2_oos']:.2f}\n",
        "              \"\"\")\n",
        "\n",
        "    return results"
      ]
    },
    {
      "cell_type": "code",
      "execution_count": null,
      "metadata": {
        "colab": {
          "base_uri": "https://localhost:8080/"
        },
        "id": "ADHBgiP5hsVY",
        "outputId": "251457ba-9624-4cf9-bcae-13f14c6c14a6"
      },
      "outputs": [
        {
          "name": "stdout",
          "output_type": "stream",
          "text": [
            "\n",
            "Starting model training and evaluation...\n",
            "Dataset sizes - Training: (564350, 114), Validation: (229810, 114), Testing: (343866, 114)\n",
            "\n"
          ]
        },
        {
          "name": "stderr",
          "output_type": "stream",
          "text": [
            "Models:   0%|          | 0/6 [00:00<?, ?it/s]"
          ]
        },
        {
          "name": "stdout",
          "output_type": "stream",
          "text": [
            "\n",
            "Training Linear Regression...\n",
            "Training completed in 10.69 seconds\n",
            "Generating predictions...\n"
          ]
        },
        {
          "name": "stderr",
          "output_type": "stream",
          "text": [
            "Models:  17%|█▋        | 1/6 [00:11<00:56, 11.22s/it]"
          ]
        },
        {
          "name": "stdout",
          "output_type": "stream",
          "text": [
            "Prediction completed in 0.25 seconds\n",
            "Calculating metrics...\n",
            "Linear Regression - Validation R² OOS: 0.22, \n",
            "Test R² OOS: 0.22\n",
            "\n",
            "Training Ridge...\n",
            "Training completed in 1.56 seconds\n",
            "Generating predictions...\n"
          ]
        },
        {
          "name": "stderr",
          "output_type": "stream",
          "text": [
            "Models:  33%|███▎      | 2/6 [00:13<00:23,  5.83s/it]"
          ]
        },
        {
          "name": "stdout",
          "output_type": "stream",
          "text": [
            "Prediction completed in 0.21 seconds\n",
            "Calculating metrics...\n",
            "Ridge - Validation R² OOS: 0.22, \n",
            "Test R² OOS: 0.22\n",
            "\n",
            "Training Lasso...\n",
            "Training completed in 304.10 seconds\n",
            "Generating predictions...\n"
          ]
        },
        {
          "name": "stderr",
          "output_type": "stream",
          "text": [
            "Models:  50%|█████     | 3/6 [05:18<07:07, 142.34s/it]"
          ]
        },
        {
          "name": "stdout",
          "output_type": "stream",
          "text": [
            "Prediction completed in 0.30 seconds\n",
            "Calculating metrics...\n",
            "Lasso - Validation R² OOS: 0.22, \n",
            "Test R² OOS: 0.22\n",
            "\n",
            "Training Elastic Net...\n",
            "Training completed in 387.27 seconds\n",
            "Generating predictions...\n"
          ]
        },
        {
          "name": "stderr",
          "output_type": "stream",
          "text": [
            "Models:  67%|██████▋   | 4/6 [11:46<07:58, 239.33s/it]"
          ]
        },
        {
          "name": "stdout",
          "output_type": "stream",
          "text": [
            "Prediction completed in 0.33 seconds\n",
            "Calculating metrics...\n",
            "Elastic Net - Validation R² OOS: 0.21, \n",
            "Test R² OOS: 0.20\n",
            "\n",
            "Training Random Forest...\n",
            "Training completed in 2053.07 seconds\n",
            "Generating predictions...\n"
          ]
        },
        {
          "name": "stderr",
          "output_type": "stream",
          "text": [
            "Models:  83%|████████▎ | 5/6 [46:05<14:55, 895.65s/it]"
          ]
        },
        {
          "name": "stdout",
          "output_type": "stream",
          "text": [
            "Prediction completed in 3.15 seconds\n",
            "Calculating metrics...\n",
            "Random Forest - Validation R² OOS: 0.99, \n",
            "Test R² OOS: 0.99\n",
            "\n",
            "Training Gradient Boosting...\n"
          ]
        }
      ],
      "source": [
        "model_results = {}\n",
        "\n",
        "models = {\n",
        "    'Linear Regression': LinearRegression(),\n",
        "    'Ridge': Ridge(alpha=1.0),\n",
        "    'Lasso': Lasso(alpha=0.01, max_iter=10000),\n",
        "    'Elastic Net': ElasticNet(alpha=0.01, l1_ratio=0.5, max_iter=10000),\n",
        "    'Random Forest': RandomForestRegressor(n_estimators=100, max_depth=10, random_state=42, n_jobs=-1),\n",
        "    'Gradient Boosting': GradientBoostingRegressor(n_estimators=100, max_depth=3, random_state=42)\n",
        "}\n",
        "\n",
        "print(f\"\\nStarting model training and evaluation...\")\n",
        "print(f\"Dataset sizes - Training: {X_train_processed.shape}, Validation: {X_valid_processed.shape}, Testing: {X_test_processed.shape}\")\n",
        "print()\n",
        "\n",
        "for name in tqdm(list(models.keys()), desc=\"Models\"):\n",
        "    model = models[name]\n",
        "    model_results[name] = evaluate_model(\n",
        "        model, name,\n",
        "        X_train_processed, y_train,\n",
        "        X_valid_processed, y_valid,\n",
        "        X_test_processed, y_test\n",
        "    )"
      ]
    },
    {
      "cell_type": "code",
      "source": [
        "######### added part\n",
        "\n",
        "model_results = {}\n",
        "\n",
        "models = {\n",
        "    'Random Forest': RandomForestRegressor(n_estimators=20, max_depth=3, min_samples_leaf=100, random_state=42, n_jobs=-1)\n",
        "    # 'Gradient Boosting': GradientBoostingRegressor(n_estimators=10, max_depth=3, random_state=42)\n",
        "}\n",
        "\n",
        "print(f\"\\nStarting model training and evaluation...\")\n",
        "print(f\"Dataset sizes - Training: {X_train_processed.shape}, Validation: {X_valid_processed.shape}, Testing: {X_test_processed.shape}\")\n",
        "print()\n",
        "\n",
        "for name in tqdm(list(models.keys()), desc=\"Models\"):\n",
        "    model = models[name]\n",
        "    model_results[name] = evaluate_model(\n",
        "        model, name,\n",
        "        X_train_processed.drop(columns=['STreversal']), y_train,\n",
        "        X_valid_processed.drop(columns=['STreversal']), y_valid,\n",
        "        X_test_processed.drop(columns=['STreversal']), y_test\n",
        "    )"
      ],
      "metadata": {
        "id": "1Nat1SFp3rx_"
      },
      "execution_count": null,
      "outputs": []
    },
    {
      "cell_type": "code",
      "execution_count": null,
      "metadata": {
        "id": "S90A7B0bh1Vo"
      },
      "outputs": [],
      "source": [
        "print(\"\\nModel Comparison (Test R² OOS):\")\n",
        "print(f'CAPM: {r_squared_capm:.3f}')\n",
        "for name, results in model_results.items():\n",
        "    print(f\"{name}: {results['test_r2_oos']:.3f} (Training: {results['train_time']:.3f}s, Prediction: {results['pred_time']:.3f}s)\")"
      ]
    },
    {
      "cell_type": "code",
      "execution_count": null,
      "metadata": {
        "id": "M-8hUF9qh3wy"
      },
      "outputs": [],
      "source": [
        "# Feature importance for tree-based models\n",
        "if 'Random Forest' in model_results:\n",
        "    rf_model = models['Random Forest']\n",
        "    rf_importances = pd.DataFrame({\n",
        "        'feature': predictor_vars,\n",
        "        'importance': rf_model.feature_importances_\n",
        "    }).sort_values('importance', ascending=False)\n",
        "\n",
        "    print(\"\\nTop 10 Important Features (Random Forest):\")\n",
        "    print(rf_importances.head(10))\n",
        "\n",
        "if 'Gradient Boosting' in model_results:\n",
        "    gb_model = models['Gradient Boosting']\n",
        "    gb_importances = pd.DataFrame({\n",
        "        'feature': predictor_vars,\n",
        "        'importance': gb_model.feature_importances_\n",
        "    }).sort_values('importance', ascending=False)\n",
        "\n",
        "    print(\"\\nTop 10 Important Features (Gradient Boosting):\")\n",
        "    print(gb_importances.head(10))\n",
        "\n",
        "# System resource information\n",
        "print(\"\\nSystem Resource Information:\")\n",
        "print(f\"Memory usage of training data: {X_train_processed.memory_usage().sum() / (1024**2):.2f} MB\")\n",
        "print(f\"Number of processors: {os.cpu_count()}\")"
      ]
    }
  ],
  "metadata": {
    "accelerator": "GPU",
    "colab": {
      "collapsed_sections": [
        "MoYorNMKqb2q"
      ],
      "gpuType": "T4",
      "provenance": []
    },
    "kernelspec": {
      "display_name": "Python 3",
      "name": "python3"
    },
    "language_info": {
      "codemirror_mode": {
        "name": "ipython",
        "version": 3
      },
      "file_extension": ".py",
      "mimetype": "text/x-python",
      "name": "python",
      "nbconvert_exporter": "python",
      "pygments_lexer": "ipython3",
      "version": "3.13.0"
    }
  },
  "nbformat": 4,
  "nbformat_minor": 0
}