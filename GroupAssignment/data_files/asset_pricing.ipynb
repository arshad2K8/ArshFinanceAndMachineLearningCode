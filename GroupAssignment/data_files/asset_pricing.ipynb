{
  "cells": [
    {
      "cell_type": "code",
      "execution_count": 1,
      "metadata": {
        "id": "ena6Me2duUP6"
      },
      "outputs": [],
      "source": [
        "import pandas as pd\n",
        "import numpy as np\n",
        "import matplotlib.pyplot as plt\n",
        "import seaborn as sns\n",
        "from pandas import Timestamp"
      ]
    },
    {
      "cell_type": "markdown",
      "metadata": {
        "id": "q1jnJYR5u2Lk"
      },
      "source": [
        "# Reading the data"
      ]
    },
    {
      "cell_type": "code",
      "execution_count": 3,
      "metadata": {
        "id": "k1ZkZGhFuUP7"
      },
      "outputs": [],
      "source": [
        "pd.set_option('display.max_rows', 10)\n",
        "pd.set_option('display.max_columns', 10)"
      ]
    },
    {
      "cell_type": "code",
      "execution_count": null,
      "metadata": {
        "id": "pPRxpeDNuUP7"
      },
      "outputs": [],
      "source": [
        "# df_info = pd.read_csv('data_files/SignalDoc.csv')\n",
        "# df_info"
      ]
    },
    {
      "cell_type": "code",
      "execution_count": null,
      "metadata": {
        "id": "UtRtQnJRuUP8"
      },
      "outputs": [],
      "source": [
        "# df = pd.read_csv('data_files/crspm_and_predictors.csv')\n",
        "# df"
      ]
    },
    {
      "cell_type": "code",
      "execution_count": 2,
      "metadata": {
        "colab": {
          "base_uri": "https://localhost:8080/",
          "height": 304
        },
        "collapsed": true,
        "id": "5rjhtuXXuUP9",
        "outputId": "3f3d443c-9e47-4854-c111-aed40a156a47"
      },
      "outputs": [
        {
          "data": {
            "text/html": [
              "<div>\n",
              "<style scoped>\n",
              "    .dataframe tbody tr th:only-of-type {\n",
              "        vertical-align: middle;\n",
              "    }\n",
              "\n",
              "    .dataframe tbody tr th {\n",
              "        vertical-align: top;\n",
              "    }\n",
              "\n",
              "    .dataframe thead th {\n",
              "        text-align: right;\n",
              "    }\n",
              "</style>\n",
              "<table border=\"1\" class=\"dataframe\">\n",
              "  <thead>\n",
              "    <tr style=\"text-align: right;\">\n",
              "      <th></th>\n",
              "      <th>observation_date</th>\n",
              "      <th>TB3MS</th>\n",
              "    </tr>\n",
              "  </thead>\n",
              "  <tbody>\n",
              "    <tr>\n",
              "      <th>0</th>\n",
              "      <td>1934-01-01</td>\n",
              "      <td>0.72</td>\n",
              "    </tr>\n",
              "    <tr>\n",
              "      <th>1</th>\n",
              "      <td>1934-02-01</td>\n",
              "      <td>0.62</td>\n",
              "    </tr>\n",
              "    <tr>\n",
              "      <th>2</th>\n",
              "      <td>1934-03-01</td>\n",
              "      <td>0.24</td>\n",
              "    </tr>\n",
              "    <tr>\n",
              "      <th>3</th>\n",
              "      <td>1934-04-01</td>\n",
              "      <td>0.15</td>\n",
              "    </tr>\n",
              "    <tr>\n",
              "      <th>4</th>\n",
              "      <td>1934-05-01</td>\n",
              "      <td>0.16</td>\n",
              "    </tr>\n",
              "    <tr>\n",
              "      <th>...</th>\n",
              "      <td>...</td>\n",
              "      <td>...</td>\n",
              "    </tr>\n",
              "    <tr>\n",
              "      <th>1089</th>\n",
              "      <td>2024-10-01</td>\n",
              "      <td>4.51</td>\n",
              "    </tr>\n",
              "    <tr>\n",
              "      <th>1090</th>\n",
              "      <td>2024-11-01</td>\n",
              "      <td>4.42</td>\n",
              "    </tr>\n",
              "    <tr>\n",
              "      <th>1091</th>\n",
              "      <td>2024-12-01</td>\n",
              "      <td>4.27</td>\n",
              "    </tr>\n",
              "    <tr>\n",
              "      <th>1092</th>\n",
              "      <td>2025-01-01</td>\n",
              "      <td>4.21</td>\n",
              "    </tr>\n",
              "    <tr>\n",
              "      <th>1093</th>\n",
              "      <td>2025-02-01</td>\n",
              "      <td>4.22</td>\n",
              "    </tr>\n",
              "  </tbody>\n",
              "</table>\n",
              "<p>1094 rows × 2 columns</p>\n",
              "</div>"
            ],
            "text/plain": [
              "     observation_date  TB3MS\n",
              "0          1934-01-01   0.72\n",
              "1          1934-02-01   0.62\n",
              "2          1934-03-01   0.24\n",
              "3          1934-04-01   0.15\n",
              "4          1934-05-01   0.16\n",
              "...               ...    ...\n",
              "1089       2024-10-01   4.51\n",
              "1090       2024-11-01   4.42\n",
              "1091       2024-12-01   4.27\n",
              "1092       2025-01-01   4.21\n",
              "1093       2025-02-01   4.22\n",
              "\n",
              "[1094 rows x 2 columns]"
            ]
          },
          "execution_count": 2,
          "metadata": {},
          "output_type": "execute_result"
        }
      ],
      "source": [
        "rf_rates = pd.read_csv('TB3MS.csv')\n",
        "rf_rates"
      ]
    },
    {
      "cell_type": "code",
      "execution_count": 3,
      "metadata": {
        "colab": {
          "base_uri": "https://localhost:8080/"
        },
        "id": "UgNQbNV1v2oE",
        "outputId": "147b650a-045c-4174-d276-f675ff4d19cb"
      },
      "outputs": [
        {
          "data": {
            "text/plain": [
              "(500000, 119)"
            ]
          },
          "execution_count": 3,
          "metadata": {},
          "output_type": "execute_result"
        }
      ],
      "source": [
        "# it is giving diff rows every time,\n",
        "# every time rows are increasing, maybe due to some limits of colab\n",
        "NUM_ROWS = 500000\n",
        "df = pd.read_csv('crspm_and_predictors.csv', nrows=NUM_ROWS)\n",
        "#df = pd.read_csv('sample.csv', low_memory=False, engine='c')\n",
        "df.shape # (500000, 119)"
      ]
    },
    {
      "cell_type": "code",
      "execution_count": 9,
      "metadata": {
        "id": "4Dt0ASwulz-P"
      },
      "outputs": [],
      "source": [
        "rf_rates['observation_date'] = pd.to_datetime(rf_rates['observation_date'], format='%Y-%m-%d')\n",
        "df['yyyymm'] = pd.to_datetime(df['yyyymm'], format='%Y%m') #df.loc[:, 'yyyymm']"
      ]
    },
    {
      "cell_type": "markdown",
      "metadata": {
        "id": "1I5niSSho3yg"
      },
      "source": [
        "# Sampling /skiping for now"
      ]
    },
    {
      "cell_type": "code",
      "execution_count": 10,
      "metadata": {
        "colab": {
          "base_uri": "https://localhost:8080/",
          "height": 423
        },
        "collapsed": true,
        "id": "zkxE0xWnuUQA",
        "outputId": "c738e013-20fe-4d60-ea98-c287d0a74be6"
      },
      "outputs": [
        {
          "data": {
            "text/html": [
              "<div>\n",
              "<style scoped>\n",
              "    .dataframe tbody tr th:only-of-type {\n",
              "        vertical-align: middle;\n",
              "    }\n",
              "\n",
              "    .dataframe tbody tr th {\n",
              "        vertical-align: top;\n",
              "    }\n",
              "\n",
              "    .dataframe thead th {\n",
              "        text-align: right;\n",
              "    }\n",
              "</style>\n",
              "<table border=\"1\" class=\"dataframe\">\n",
              "  <thead>\n",
              "    <tr style=\"text-align: right;\">\n",
              "      <th></th>\n",
              "      <th>observation_date</th>\n",
              "      <th>TB3MS</th>\n",
              "    </tr>\n",
              "  </thead>\n",
              "  <tbody>\n",
              "    <tr>\n",
              "      <th>0</th>\n",
              "      <td>1990-01-01</td>\n",
              "      <td>7.64</td>\n",
              "    </tr>\n",
              "    <tr>\n",
              "      <th>1</th>\n",
              "      <td>1990-02-01</td>\n",
              "      <td>7.74</td>\n",
              "    </tr>\n",
              "    <tr>\n",
              "      <th>2</th>\n",
              "      <td>1990-03-01</td>\n",
              "      <td>7.90</td>\n",
              "    </tr>\n",
              "    <tr>\n",
              "      <th>3</th>\n",
              "      <td>1990-04-01</td>\n",
              "      <td>7.77</td>\n",
              "    </tr>\n",
              "    <tr>\n",
              "      <th>4</th>\n",
              "      <td>1990-05-01</td>\n",
              "      <td>7.74</td>\n",
              "    </tr>\n",
              "    <tr>\n",
              "      <th>...</th>\n",
              "      <td>...</td>\n",
              "      <td>...</td>\n",
              "    </tr>\n",
              "    <tr>\n",
              "      <th>127</th>\n",
              "      <td>2000-08-01</td>\n",
              "      <td>6.09</td>\n",
              "    </tr>\n",
              "    <tr>\n",
              "      <th>128</th>\n",
              "      <td>2000-09-01</td>\n",
              "      <td>6.00</td>\n",
              "    </tr>\n",
              "    <tr>\n",
              "      <th>129</th>\n",
              "      <td>2000-10-01</td>\n",
              "      <td>6.11</td>\n",
              "    </tr>\n",
              "    <tr>\n",
              "      <th>130</th>\n",
              "      <td>2000-11-01</td>\n",
              "      <td>6.17</td>\n",
              "    </tr>\n",
              "    <tr>\n",
              "      <th>131</th>\n",
              "      <td>2000-12-01</td>\n",
              "      <td>5.77</td>\n",
              "    </tr>\n",
              "  </tbody>\n",
              "</table>\n",
              "<p>132 rows × 2 columns</p>\n",
              "</div>"
            ],
            "text/plain": [
              "    observation_date  TB3MS\n",
              "0         1990-01-01   7.64\n",
              "1         1990-02-01   7.74\n",
              "2         1990-03-01   7.90\n",
              "3         1990-04-01   7.77\n",
              "4         1990-05-01   7.74\n",
              "..               ...    ...\n",
              "127       2000-08-01   6.09\n",
              "128       2000-09-01   6.00\n",
              "129       2000-10-01   6.11\n",
              "130       2000-11-01   6.17\n",
              "131       2000-12-01   5.77\n",
              "\n",
              "[132 rows x 2 columns]"
            ]
          },
          "execution_count": 10,
          "metadata": {},
          "output_type": "execute_result"
        }
      ],
      "source": [
        "# need to be changed according to data\n",
        "filtered_tb3ms = rf_rates[(rf_rates['observation_date'] >= '1990-01-01') &\n",
        "                          (rf_rates['observation_date'] <= '2000-12-01')]\n",
        "\n",
        "filtered_tb3ms.reset_index(drop=True, inplace=True)\n",
        "filtered_tb3ms"
      ]
    },
    {
      "cell_type": "code",
      "execution_count": 6,
      "metadata": {
        "collapsed": true,
        "id": "5lNbXEBayQh0"
      },
      "outputs": [
        {
          "ename": "KeyError",
          "evalue": "\"['year'] not found in axis\"",
          "output_type": "error",
          "traceback": [
            "\u001b[0;31m---------------------------------------------------------------------------\u001b[0m",
            "\u001b[0;31mKeyError\u001b[0m                                  Traceback (most recent call last)",
            "Cell \u001b[0;32mIn[6], line 1\u001b[0m\n\u001b[0;32m----> 1\u001b[0m df \u001b[38;5;241m=\u001b[39m \u001b[43mdf\u001b[49m\u001b[38;5;241;43m.\u001b[39;49m\u001b[43mdrop\u001b[49m\u001b[43m(\u001b[49m\u001b[43mcolumns\u001b[49m\u001b[38;5;241;43m=\u001b[39;49m\u001b[43m[\u001b[49m\u001b[38;5;124;43m'\u001b[39;49m\u001b[38;5;124;43myear\u001b[39;49m\u001b[38;5;124;43m'\u001b[39;49m\u001b[43m]\u001b[49m\u001b[43m)\u001b[49m \u001b[38;5;66;03m# added in analyze_dataset()\u001b[39;00m\n\u001b[1;32m      2\u001b[0m df\u001b[38;5;241m.\u001b[39mreset_index(drop\u001b[38;5;241m=\u001b[39m\u001b[38;5;28;01mTrue\u001b[39;00m, inplace\u001b[38;5;241m=\u001b[39m\u001b[38;5;28;01mTrue\u001b[39;00m)\n",
            "File \u001b[0;32m~/Documents/prog/python/env/lib/python3.12/site-packages/pandas/core/frame.py:5581\u001b[0m, in \u001b[0;36mDataFrame.drop\u001b[0;34m(self, labels, axis, index, columns, level, inplace, errors)\u001b[0m\n\u001b[1;32m   5433\u001b[0m \u001b[38;5;28;01mdef\u001b[39;00m\u001b[38;5;250m \u001b[39m\u001b[38;5;21mdrop\u001b[39m(\n\u001b[1;32m   5434\u001b[0m     \u001b[38;5;28mself\u001b[39m,\n\u001b[1;32m   5435\u001b[0m     labels: IndexLabel \u001b[38;5;241m|\u001b[39m \u001b[38;5;28;01mNone\u001b[39;00m \u001b[38;5;241m=\u001b[39m \u001b[38;5;28;01mNone\u001b[39;00m,\n\u001b[0;32m   (...)\u001b[0m\n\u001b[1;32m   5442\u001b[0m     errors: IgnoreRaise \u001b[38;5;241m=\u001b[39m \u001b[38;5;124m\"\u001b[39m\u001b[38;5;124mraise\u001b[39m\u001b[38;5;124m\"\u001b[39m,\n\u001b[1;32m   5443\u001b[0m ) \u001b[38;5;241m-\u001b[39m\u001b[38;5;241m>\u001b[39m DataFrame \u001b[38;5;241m|\u001b[39m \u001b[38;5;28;01mNone\u001b[39;00m:\n\u001b[1;32m   5444\u001b[0m \u001b[38;5;250m    \u001b[39m\u001b[38;5;124;03m\"\"\"\u001b[39;00m\n\u001b[1;32m   5445\u001b[0m \u001b[38;5;124;03m    Drop specified labels from rows or columns.\u001b[39;00m\n\u001b[1;32m   5446\u001b[0m \n\u001b[0;32m   (...)\u001b[0m\n\u001b[1;32m   5579\u001b[0m \u001b[38;5;124;03m            weight  1.0     0.8\u001b[39;00m\n\u001b[1;32m   5580\u001b[0m \u001b[38;5;124;03m    \"\"\"\u001b[39;00m\n\u001b[0;32m-> 5581\u001b[0m     \u001b[38;5;28;01mreturn\u001b[39;00m \u001b[38;5;28;43msuper\u001b[39;49m\u001b[43m(\u001b[49m\u001b[43m)\u001b[49m\u001b[38;5;241;43m.\u001b[39;49m\u001b[43mdrop\u001b[49m\u001b[43m(\u001b[49m\n\u001b[1;32m   5582\u001b[0m \u001b[43m        \u001b[49m\u001b[43mlabels\u001b[49m\u001b[38;5;241;43m=\u001b[39;49m\u001b[43mlabels\u001b[49m\u001b[43m,\u001b[49m\n\u001b[1;32m   5583\u001b[0m \u001b[43m        \u001b[49m\u001b[43maxis\u001b[49m\u001b[38;5;241;43m=\u001b[39;49m\u001b[43maxis\u001b[49m\u001b[43m,\u001b[49m\n\u001b[1;32m   5584\u001b[0m \u001b[43m        \u001b[49m\u001b[43mindex\u001b[49m\u001b[38;5;241;43m=\u001b[39;49m\u001b[43mindex\u001b[49m\u001b[43m,\u001b[49m\n\u001b[1;32m   5585\u001b[0m \u001b[43m        \u001b[49m\u001b[43mcolumns\u001b[49m\u001b[38;5;241;43m=\u001b[39;49m\u001b[43mcolumns\u001b[49m\u001b[43m,\u001b[49m\n\u001b[1;32m   5586\u001b[0m \u001b[43m        \u001b[49m\u001b[43mlevel\u001b[49m\u001b[38;5;241;43m=\u001b[39;49m\u001b[43mlevel\u001b[49m\u001b[43m,\u001b[49m\n\u001b[1;32m   5587\u001b[0m \u001b[43m        \u001b[49m\u001b[43minplace\u001b[49m\u001b[38;5;241;43m=\u001b[39;49m\u001b[43minplace\u001b[49m\u001b[43m,\u001b[49m\n\u001b[1;32m   5588\u001b[0m \u001b[43m        \u001b[49m\u001b[43merrors\u001b[49m\u001b[38;5;241;43m=\u001b[39;49m\u001b[43merrors\u001b[49m\u001b[43m,\u001b[49m\n\u001b[1;32m   5589\u001b[0m \u001b[43m    \u001b[49m\u001b[43m)\u001b[49m\n",
            "File \u001b[0;32m~/Documents/prog/python/env/lib/python3.12/site-packages/pandas/core/generic.py:4788\u001b[0m, in \u001b[0;36mNDFrame.drop\u001b[0;34m(self, labels, axis, index, columns, level, inplace, errors)\u001b[0m\n\u001b[1;32m   4786\u001b[0m \u001b[38;5;28;01mfor\u001b[39;00m axis, labels \u001b[38;5;129;01min\u001b[39;00m axes\u001b[38;5;241m.\u001b[39mitems():\n\u001b[1;32m   4787\u001b[0m     \u001b[38;5;28;01mif\u001b[39;00m labels \u001b[38;5;129;01mis\u001b[39;00m \u001b[38;5;129;01mnot\u001b[39;00m \u001b[38;5;28;01mNone\u001b[39;00m:\n\u001b[0;32m-> 4788\u001b[0m         obj \u001b[38;5;241m=\u001b[39m \u001b[43mobj\u001b[49m\u001b[38;5;241;43m.\u001b[39;49m\u001b[43m_drop_axis\u001b[49m\u001b[43m(\u001b[49m\u001b[43mlabels\u001b[49m\u001b[43m,\u001b[49m\u001b[43m \u001b[49m\u001b[43maxis\u001b[49m\u001b[43m,\u001b[49m\u001b[43m \u001b[49m\u001b[43mlevel\u001b[49m\u001b[38;5;241;43m=\u001b[39;49m\u001b[43mlevel\u001b[49m\u001b[43m,\u001b[49m\u001b[43m \u001b[49m\u001b[43merrors\u001b[49m\u001b[38;5;241;43m=\u001b[39;49m\u001b[43merrors\u001b[49m\u001b[43m)\u001b[49m\n\u001b[1;32m   4790\u001b[0m \u001b[38;5;28;01mif\u001b[39;00m inplace:\n\u001b[1;32m   4791\u001b[0m     \u001b[38;5;28mself\u001b[39m\u001b[38;5;241m.\u001b[39m_update_inplace(obj)\n",
            "File \u001b[0;32m~/Documents/prog/python/env/lib/python3.12/site-packages/pandas/core/generic.py:4830\u001b[0m, in \u001b[0;36mNDFrame._drop_axis\u001b[0;34m(self, labels, axis, level, errors, only_slice)\u001b[0m\n\u001b[1;32m   4828\u001b[0m         new_axis \u001b[38;5;241m=\u001b[39m axis\u001b[38;5;241m.\u001b[39mdrop(labels, level\u001b[38;5;241m=\u001b[39mlevel, errors\u001b[38;5;241m=\u001b[39merrors)\n\u001b[1;32m   4829\u001b[0m     \u001b[38;5;28;01melse\u001b[39;00m:\n\u001b[0;32m-> 4830\u001b[0m         new_axis \u001b[38;5;241m=\u001b[39m \u001b[43maxis\u001b[49m\u001b[38;5;241;43m.\u001b[39;49m\u001b[43mdrop\u001b[49m\u001b[43m(\u001b[49m\u001b[43mlabels\u001b[49m\u001b[43m,\u001b[49m\u001b[43m \u001b[49m\u001b[43merrors\u001b[49m\u001b[38;5;241;43m=\u001b[39;49m\u001b[43merrors\u001b[49m\u001b[43m)\u001b[49m\n\u001b[1;32m   4831\u001b[0m     indexer \u001b[38;5;241m=\u001b[39m axis\u001b[38;5;241m.\u001b[39mget_indexer(new_axis)\n\u001b[1;32m   4833\u001b[0m \u001b[38;5;66;03m# Case for non-unique axis\u001b[39;00m\n\u001b[1;32m   4834\u001b[0m \u001b[38;5;28;01melse\u001b[39;00m:\n",
            "File \u001b[0;32m~/Documents/prog/python/env/lib/python3.12/site-packages/pandas/core/indexes/base.py:7070\u001b[0m, in \u001b[0;36mIndex.drop\u001b[0;34m(self, labels, errors)\u001b[0m\n\u001b[1;32m   7068\u001b[0m \u001b[38;5;28;01mif\u001b[39;00m mask\u001b[38;5;241m.\u001b[39many():\n\u001b[1;32m   7069\u001b[0m     \u001b[38;5;28;01mif\u001b[39;00m errors \u001b[38;5;241m!=\u001b[39m \u001b[38;5;124m\"\u001b[39m\u001b[38;5;124mignore\u001b[39m\u001b[38;5;124m\"\u001b[39m:\n\u001b[0;32m-> 7070\u001b[0m         \u001b[38;5;28;01mraise\u001b[39;00m \u001b[38;5;167;01mKeyError\u001b[39;00m(\u001b[38;5;124mf\u001b[39m\u001b[38;5;124m\"\u001b[39m\u001b[38;5;132;01m{\u001b[39;00mlabels[mask]\u001b[38;5;241m.\u001b[39mtolist()\u001b[38;5;132;01m}\u001b[39;00m\u001b[38;5;124m not found in axis\u001b[39m\u001b[38;5;124m\"\u001b[39m)\n\u001b[1;32m   7071\u001b[0m     indexer \u001b[38;5;241m=\u001b[39m indexer[\u001b[38;5;241m~\u001b[39mmask]\n\u001b[1;32m   7072\u001b[0m \u001b[38;5;28;01mreturn\u001b[39;00m \u001b[38;5;28mself\u001b[39m\u001b[38;5;241m.\u001b[39mdelete(indexer)\n",
            "\u001b[0;31mKeyError\u001b[0m: \"['year'] not found in axis\""
          ]
        }
      ],
      "source": [
        "df = df.drop(columns=['year']) # added in analyze_dataset()\n",
        "df.reset_index(drop=True, inplace=True)"
      ]
    },
    {
      "cell_type": "code",
      "execution_count": null,
      "metadata": {
        "id": "sxXdrI6euUP_"
      },
      "outputs": [],
      "source": [
        "# Function to analyze date ranges and predictor availability\n",
        "def analyze_dataset(df):\n",
        "    min_date = df['yyyymm'].min()\n",
        "    max_date = df['yyyymm'].max()\n",
        "    print(f\"Date range: {min_date.strftime('%Y-%m')} to {max_date.strftime('%Y-%m')}\")\n",
        "    print(f\"Spans {(max_date.year - min_date.year) * 12 + (max_date.month - min_date.month)} months\")\n",
        "\n",
        "    df['year'] = df['yyyymm'].dt.year\n",
        "\n",
        "    # Count stocks per year\n",
        "    stocks_per_year = df.groupby('year')['permno'].nunique()\n",
        "    # print(f\"\\nNumber of unique stocks by year:\")\n",
        "    # print(stocks_per_year)\n",
        "\n",
        "    # Get predictor columns\n",
        "    predictor_columns = [col for col in df.columns if col not in\n",
        "                        ['permno', 'yyyymm', 'prc', 'ret', 'Price', 'year']]\n",
        "\n",
        "    print(f\"\\nTotal predictors: {len(predictor_columns)}\")\n",
        "\n",
        "    # Calculate predictor availability overall\n",
        "    overall_availability = df[predictor_columns].notna().mean().sort_values(ascending=False) * 100\n",
        "\n",
        "    # Calculate predictor availability by year\n",
        "    availability_by_year = {}\n",
        "    for year in sorted(df['year'].unique()):\n",
        "        year_data = df[df['year'] == year]\n",
        "        availability = year_data[predictor_columns].notna().mean() * 100\n",
        "        availability_by_year[year] = availability\n",
        "\n",
        "    # Find years with good predictor coverage\n",
        "    good_threshold = 70  # Consider a predictor \"good\" if it has at least 70% non-null values\n",
        "    good_predictors_by_year = {}\n",
        "\n",
        "    for year, availability in availability_by_year.items():\n",
        "        good_predictors = availability[availability >= good_threshold].index.tolist()\n",
        "        good_predictors_by_year[year] = good_predictors\n",
        "\n",
        "    # Find optimal consecutive period\n",
        "    min_period = 10  # Minimum consecutive years to consider\n",
        "    years = sorted(good_predictors_by_year.keys())\n",
        "\n",
        "    best_start = None\n",
        "    best_end = None\n",
        "    max_predictors = 0\n",
        "\n",
        "    for i in range(len(years) - min_period + 1):\n",
        "        start_year = years[i]\n",
        "\n",
        "        # Try windows of different lengths\n",
        "        for j in range(i + min_period - 1, len(years)):\n",
        "            end_year = years[j]\n",
        "            window_years = years[i:j+1]\n",
        "\n",
        "            # Find predictors available across the entire window\n",
        "            common_predictors = set(good_predictors_by_year[window_years[0]])\n",
        "            for year in window_years[1:]:\n",
        "                common_predictors = common_predictors.intersection(set(good_predictors_by_year[year]))\n",
        "\n",
        "            if len(common_predictors) > max_predictors:\n",
        "                max_predictors = len(common_predictors)\n",
        "                best_start = start_year\n",
        "                best_end = end_year\n",
        "\n",
        "    print(f\"\\nOptimal window: {best_start} to {best_end} ({best_end-best_start+1} years)\")\n",
        "    print(f\"Number of predictors with good availability: {max_predictors}\")\n",
        "\n",
        "    # Get the list of common predictors\n",
        "    if best_start is not None:\n",
        "        common_predictors = set(good_predictors_by_year[best_start])\n",
        "        for year in range(best_start+1, best_end+1):\n",
        "            common_predictors = common_predictors.intersection(set(good_predictors_by_year[year]))\n",
        "\n",
        "        # Return important information\n",
        "        return {\n",
        "            'date_range': (min_date, max_date),\n",
        "            'stocks_per_year': stocks_per_year,\n",
        "            'optimal_window': (best_start, best_end),\n",
        "            'common_predictors': list(common_predictors),\n",
        "            'overall_availability': overall_availability\n",
        "        }\n",
        "\n",
        "    return None\n"
      ]
    },
    {
      "cell_type": "code",
      "execution_count": null,
      "metadata": {
        "collapsed": true,
        "id": "NOu2u7ufuUP_"
      },
      "outputs": [],
      "source": [
        "# result = analyze_dataset(df)\n",
        "# res: Optimal window: 1988 to 1997 (10 years)\n"
      ]
    },
    {
      "cell_type": "markdown",
      "metadata": {
        "id": "tUVwsi0HqASX"
      },
      "source": [
        "# Cleaning"
      ]
    },
    {
      "cell_type": "markdown",
      "metadata": {
        "id": "0_3vqAadJhWR"
      },
      "source": [
        "Variables: The dataset includes a unique firm identifier (permno), date,\n",
        " stock price (prc), stock return in percentage units adjusted for delisting (ret), and a variable named Signed Price (Price). In addition, there are 114 predictor variables (signals)."
      ]
    },
    {
      "cell_type": "code",
      "execution_count": 11,
      "metadata": {
        "id": "m2siY-vLJ1W9"
      },
      "outputs": [],
      "source": [
        "# Merge the DataFrames based on the date columns\n",
        "merged_df = pd.merge(df, filtered_tb3ms, left_on='yyyymm',\n",
        "                        right_on='observation_date', how='left')"
      ]
    },
    {
      "cell_type": "code",
      "execution_count": 12,
      "metadata": {
        "collapsed": true,
        "id": "PCCLcy8VKURJ"
      },
      "outputs": [],
      "source": [
        "merged_df.drop(columns=['observation_date'], inplace=True)\n",
        "merged_df.rename(columns={'TB3MS': 'RiskFree', 'yyyymm': 'date'}, inplace=True)"
      ]
    },
    {
      "cell_type": "code",
      "execution_count": null,
      "metadata": {
        "colab": {
          "base_uri": "https://localhost:8080/",
          "height": 349
        },
        "collapsed": true,
        "id": "ovsJKQMbupU8",
        "outputId": "5b77a61e-9e42-4484-854a-28f94489da45"
      },
      "outputs": [
        {
          "name": "stderr",
          "output_type": "stream",
          "text": [
            "/Users/arshad/Documents/prog/python/env/lib/python3.12/site-packages/pandas/core/nanops.py:1016: RuntimeWarning: invalid value encountered in subtract\n",
            "  sqr = _ensure_numeric((avg - values) ** 2)\n"
          ]
        },
        {
          "data": {
            "text/html": [
              "<div>\n",
              "<style scoped>\n",
              "    .dataframe tbody tr th:only-of-type {\n",
              "        vertical-align: middle;\n",
              "    }\n",
              "\n",
              "    .dataframe tbody tr th {\n",
              "        vertical-align: top;\n",
              "    }\n",
              "\n",
              "    .dataframe thead th {\n",
              "        text-align: right;\n",
              "    }\n",
              "</style>\n",
              "<table border=\"1\" class=\"dataframe\">\n",
              "  <thead>\n",
              "    <tr style=\"text-align: right;\">\n",
              "      <th></th>\n",
              "      <th>permno</th>\n",
              "      <th>date</th>\n",
              "      <th>prc</th>\n",
              "      <th>ret</th>\n",
              "      <th>Price</th>\n",
              "      <th>Size</th>\n",
              "      <th>STreversal</th>\n",
              "      <th>MaxRet</th>\n",
              "      <th>High52</th>\n",
              "      <th>RealizedVol</th>\n",
              "      <th>...</th>\n",
              "      <th>MomOffSeason06YrPlus</th>\n",
              "      <th>grcapx</th>\n",
              "      <th>EntMult</th>\n",
              "      <th>Investment</th>\n",
              "      <th>PctTotAcc</th>\n",
              "      <th>EarnSupBig</th>\n",
              "      <th>EarningsSurprise</th>\n",
              "      <th>BetaTailRisk</th>\n",
              "      <th>CBOperProf</th>\n",
              "      <th>RiskFree</th>\n",
              "    </tr>\n",
              "  </thead>\n",
              "  <tbody>\n",
              "    <tr>\n",
              "      <th>count</th>\n",
              "      <td>500000.000000</td>\n",
              "      <td>500000</td>\n",
              "      <td>469055.000000</td>\n",
              "      <td>467677.000000</td>\n",
              "      <td>469055.000000</td>\n",
              "      <td>4.690550e+05</td>\n",
              "      <td>481619.000000</td>\n",
              "      <td>466475.000000</td>\n",
              "      <td>462970.000000</td>\n",
              "      <td>462383.000000</td>\n",
              "      <td>...</td>\n",
              "      <td>247601.000000</td>\n",
              "      <td>257715.000000</td>\n",
              "      <td>263002.000000</td>\n",
              "      <td>240087.000000</td>\n",
              "      <td>216617.000000</td>\n",
              "      <td>2.598040e+05</td>\n",
              "      <td>2.430290e+05</td>\n",
              "      <td>236936.000000</td>\n",
              "      <td>242469.000000</td>\n",
              "      <td>119127.000000</td>\n",
              "    </tr>\n",
              "    <tr>\n",
              "      <th>mean</th>\n",
              "      <td>43610.598630</td>\n",
              "      <td>1994-05-27 18:50:57.868800128</td>\n",
              "      <td>17.544655</td>\n",
              "      <td>1.078451</td>\n",
              "      <td>-2.356802</td>\n",
              "      <td>inf</td>\n",
              "      <td>-1.047232</td>\n",
              "      <td>-0.071932</td>\n",
              "      <td>0.754237</td>\n",
              "      <td>-0.031089</td>\n",
              "      <td>...</td>\n",
              "      <td>-0.013254</td>\n",
              "      <td>-2.747557</td>\n",
              "      <td>-20.946259</td>\n",
              "      <td>-1.007701</td>\n",
              "      <td>-1.986602</td>\n",
              "      <td>4.343471e+10</td>\n",
              "      <td>1.100947e+12</td>\n",
              "      <td>0.627944</td>\n",
              "      <td>0.095031</td>\n",
              "      <td>4.993146</td>\n",
              "    </tr>\n",
              "    <tr>\n",
              "      <th>min</th>\n",
              "      <td>10659.000000</td>\n",
              "      <td>1960-01-01 00:00:00</td>\n",
              "      <td>-401.000000</td>\n",
              "      <td>-100.000000</td>\n",
              "      <td>-8.412943</td>\n",
              "      <td>-1.986091e+01</td>\n",
              "      <td>-873.267400</td>\n",
              "      <td>-12.777778</td>\n",
              "      <td>0.002568</td>\n",
              "      <td>-2.873565</td>\n",
              "      <td>...</td>\n",
              "      <td>-1.375983</td>\n",
              "      <td>-20612.500000</td>\n",
              "      <td>-79777.492000</td>\n",
              "      <td>-153.852580</td>\n",
              "      <td>-2919.428500</td>\n",
              "      <td>-6.793655e+13</td>\n",
              "      <td>-1.019048e+15</td>\n",
              "      <td>-3.190127</td>\n",
              "      <td>-4.634063</td>\n",
              "      <td>2.860000</td>\n",
              "    </tr>\n",
              "    <tr>\n",
              "      <th>25%</th>\n",
              "      <td>18203.000000</td>\n",
              "      <td>1982-12-01 00:00:00</td>\n",
              "      <td>1.100000</td>\n",
              "      <td>-6.140900</td>\n",
              "      <td>-3.243568</td>\n",
              "      <td>-1.286593e+01</td>\n",
              "      <td>-6.290150</td>\n",
              "      <td>-0.086004</td>\n",
              "      <td>0.599017</td>\n",
              "      <td>-0.038464</td>\n",
              "      <td>...</td>\n",
              "      <td>-0.023317</td>\n",
              "      <td>-0.896333</td>\n",
              "      <td>-12.620520</td>\n",
              "      <td>-1.210507</td>\n",
              "      <td>-1.202857</td>\n",
              "      <td>-4.163806e-01</td>\n",
              "      <td>-6.777885e-01</td>\n",
              "      <td>0.302062</td>\n",
              "      <td>0.033767</td>\n",
              "      <td>4.330000</td>\n",
              "    </tr>\n",
              "    <tr>\n",
              "      <th>50%</th>\n",
              "      <td>37218.000000</td>\n",
              "      <td>1992-11-01 00:00:00</td>\n",
              "      <td>9.900000</td>\n",
              "      <td>0.000000</td>\n",
              "      <td>-2.562639</td>\n",
              "      <td>-1.114692e+01</td>\n",
              "      <td>0.000000</td>\n",
              "      <td>-0.048334</td>\n",
              "      <td>0.795526</td>\n",
              "      <td>-0.023371</td>\n",
              "      <td>...</td>\n",
              "      <td>-0.012737</td>\n",
              "      <td>-0.121975</td>\n",
              "      <td>-7.775087</td>\n",
              "      <td>-0.937381</td>\n",
              "      <td>-0.535535</td>\n",
              "      <td>-8.903723e-02</td>\n",
              "      <td>0.000000e+00</td>\n",
              "      <td>0.556818</td>\n",
              "      <td>0.116796</td>\n",
              "      <td>5.000000</td>\n",
              "    </tr>\n",
              "    <tr>\n",
              "      <th>75%</th>\n",
              "      <td>64988.000000</td>\n",
              "      <td>2005-07-01 00:00:00</td>\n",
              "      <td>24.250000</td>\n",
              "      <td>6.589300</td>\n",
              "      <td>-1.609438</td>\n",
              "      <td>-9.663198e+00</td>\n",
              "      <td>5.882400</td>\n",
              "      <td>-0.027027</td>\n",
              "      <td>0.931296</td>\n",
              "      <td>-0.014213</td>\n",
              "      <td>...</td>\n",
              "      <td>-0.002845</td>\n",
              "      <td>0.379806</td>\n",
              "      <td>-4.941983</td>\n",
              "      <td>-0.670604</td>\n",
              "      <td>0.611309</td>\n",
              "      <td>2.306155e-01</td>\n",
              "      <td>6.451272e-01</td>\n",
              "      <td>0.869021</td>\n",
              "      <td>0.188293</td>\n",
              "      <td>5.650000</td>\n",
              "    </tr>\n",
              "    <tr>\n",
              "      <th>max</th>\n",
              "      <td>86223.000000</td>\n",
              "      <td>2024-12-01 00:00:00</td>\n",
              "      <td>4505.000000</td>\n",
              "      <td>873.267400</td>\n",
              "      <td>4.158563</td>\n",
              "      <td>inf</td>\n",
              "      <td>100.000000</td>\n",
              "      <td>0.534451</td>\n",
              "      <td>56.042801</td>\n",
              "      <td>0.000000</td>\n",
              "      <td>...</td>\n",
              "      <td>3.649201</td>\n",
              "      <td>775.000000</td>\n",
              "      <td>485.291690</td>\n",
              "      <td>41.532864</td>\n",
              "      <td>1433.000000</td>\n",
              "      <td>3.580440e+14</td>\n",
              "      <td>8.865720e+16</td>\n",
              "      <td>5.201625</td>\n",
              "      <td>2.611111</td>\n",
              "      <td>7.900000</td>\n",
              "    </tr>\n",
              "    <tr>\n",
              "      <th>std</th>\n",
              "      <td>27193.638807</td>\n",
              "      <td>NaN</td>\n",
              "      <td>78.897353</td>\n",
              "      <td>17.310151</td>\n",
              "      <td>1.296351</td>\n",
              "      <td>NaN</td>\n",
              "      <td>17.058720</td>\n",
              "      <td>0.102058</td>\n",
              "      <td>0.296595</td>\n",
              "      <td>0.031083</td>\n",
              "      <td>...</td>\n",
              "      <td>0.026640</td>\n",
              "      <td>154.024971</td>\n",
              "      <td>393.375653</td>\n",
              "      <td>0.773589</td>\n",
              "      <td>41.922132</td>\n",
              "      <td>4.233875e+12</td>\n",
              "      <td>3.115284e+14</td>\n",
              "      <td>0.497144</td>\n",
              "      <td>0.197483</td>\n",
              "      <td>1.247474</td>\n",
              "    </tr>\n",
              "  </tbody>\n",
              "</table>\n",
              "<p>8 rows × 120 columns</p>\n",
              "</div>"
            ],
            "text/plain": [
              "              permno                           date            prc  \\\n",
              "count  500000.000000                         500000  469055.000000   \n",
              "mean    43610.598630  1994-05-27 18:50:57.868800128      17.544655   \n",
              "min     10659.000000            1960-01-01 00:00:00    -401.000000   \n",
              "25%     18203.000000            1982-12-01 00:00:00       1.100000   \n",
              "50%     37218.000000            1992-11-01 00:00:00       9.900000   \n",
              "75%     64988.000000            2005-07-01 00:00:00      24.250000   \n",
              "max     86223.000000            2024-12-01 00:00:00    4505.000000   \n",
              "std     27193.638807                            NaN      78.897353   \n",
              "\n",
              "                 ret          Price          Size     STreversal  \\\n",
              "count  467677.000000  469055.000000  4.690550e+05  481619.000000   \n",
              "mean        1.078451      -2.356802           inf      -1.047232   \n",
              "min      -100.000000      -8.412943 -1.986091e+01    -873.267400   \n",
              "25%        -6.140900      -3.243568 -1.286593e+01      -6.290150   \n",
              "50%         0.000000      -2.562639 -1.114692e+01       0.000000   \n",
              "75%         6.589300      -1.609438 -9.663198e+00       5.882400   \n",
              "max       873.267400       4.158563           inf     100.000000   \n",
              "std        17.310151       1.296351           NaN      17.058720   \n",
              "\n",
              "              MaxRet         High52    RealizedVol  ...  MomOffSeason06YrPlus  \\\n",
              "count  466475.000000  462970.000000  462383.000000  ...         247601.000000   \n",
              "mean       -0.071932       0.754237      -0.031089  ...             -0.013254   \n",
              "min       -12.777778       0.002568      -2.873565  ...             -1.375983   \n",
              "25%        -0.086004       0.599017      -0.038464  ...             -0.023317   \n",
              "50%        -0.048334       0.795526      -0.023371  ...             -0.012737   \n",
              "75%        -0.027027       0.931296      -0.014213  ...             -0.002845   \n",
              "max         0.534451      56.042801       0.000000  ...              3.649201   \n",
              "std         0.102058       0.296595       0.031083  ...              0.026640   \n",
              "\n",
              "              grcapx        EntMult     Investment      PctTotAcc  \\\n",
              "count  257715.000000  263002.000000  240087.000000  216617.000000   \n",
              "mean       -2.747557     -20.946259      -1.007701      -1.986602   \n",
              "min    -20612.500000  -79777.492000    -153.852580   -2919.428500   \n",
              "25%        -0.896333     -12.620520      -1.210507      -1.202857   \n",
              "50%        -0.121975      -7.775087      -0.937381      -0.535535   \n",
              "75%         0.379806      -4.941983      -0.670604       0.611309   \n",
              "max       775.000000     485.291690      41.532864    1433.000000   \n",
              "std       154.024971     393.375653       0.773589      41.922132   \n",
              "\n",
              "         EarnSupBig  EarningsSurprise   BetaTailRisk     CBOperProf  \\\n",
              "count  2.598040e+05      2.430290e+05  236936.000000  242469.000000   \n",
              "mean   4.343471e+10      1.100947e+12       0.627944       0.095031   \n",
              "min   -6.793655e+13     -1.019048e+15      -3.190127      -4.634063   \n",
              "25%   -4.163806e-01     -6.777885e-01       0.302062       0.033767   \n",
              "50%   -8.903723e-02      0.000000e+00       0.556818       0.116796   \n",
              "75%    2.306155e-01      6.451272e-01       0.869021       0.188293   \n",
              "max    3.580440e+14      8.865720e+16       5.201625       2.611111   \n",
              "std    4.233875e+12      3.115284e+14       0.497144       0.197483   \n",
              "\n",
              "            RiskFree  \n",
              "count  119127.000000  \n",
              "mean        4.993146  \n",
              "min         2.860000  \n",
              "25%         4.330000  \n",
              "50%         5.000000  \n",
              "75%         5.650000  \n",
              "max         7.900000  \n",
              "std         1.247474  \n",
              "\n",
              "[8 rows x 120 columns]"
            ]
          },
          "execution_count": 15,
          "metadata": {},
          "output_type": "execute_result"
        }
      ],
      "source": [
        "merged_df.describe()"
      ]
    },
    {
      "cell_type": "code",
      "execution_count": 16,
      "metadata": {},
      "outputs": [
        {
          "data": {
            "text/plain": [
              "(500000, 120)"
            ]
          },
          "execution_count": 16,
          "metadata": {},
          "output_type": "execute_result"
        }
      ],
      "source": [
        "merged_df.shape"
      ]
    },
    {
      "cell_type": "code",
      "execution_count": 19,
      "metadata": {
        "colab": {
          "base_uri": "https://localhost:8080/",
          "height": 458
        },
        "id": "hcFM2pr93trz",
        "outputId": "d3deb2b6-5763-4352-8a14-7c55097b7d10"
      },
      "outputs": [
        {
          "data": {
            "text/plain": [
              "permno                   0\n",
              "date                     0\n",
              "prc                  30945\n",
              "ret                  32323\n",
              "Price                30945\n",
              "                     ...  \n",
              "EarnSupBig          240196\n",
              "EarningsSurprise    256971\n",
              "BetaTailRisk        263064\n",
              "CBOperProf          257531\n",
              "RiskFree            380873\n",
              "Length: 120, dtype: int64"
            ]
          },
          "execution_count": 19,
          "metadata": {},
          "output_type": "execute_result"
        }
      ],
      "source": [
        "merged_df.isna().sum()"
      ]
    },
    {
      "cell_type": "code",
      "execution_count": 32,
      "metadata": {},
      "outputs": [
        {
          "name": "stdout",
          "output_type": "stream",
          "text": [
            "(500000, 118)\n",
            "(500000, 114)\n",
            "(500000, 120)\n"
          ]
        }
      ],
      "source": [
        "merged_df = merged_df.replace({-np.inf: np.nan, np.inf: np.nan})\n",
        "non_nan_col = merged_df[['permno', 'date']].copy()\n",
        "numeric_df = merged_df.drop(columns=['permno', 'date'])\n",
        "print(numeric_df.shape)\n",
        "features_df = merged_df.drop(columns=['permno', 'date', 'prc', 'Price', 'ret', 'RiskFree'])\n",
        "print(features_df.shape)\n",
        "\n",
        "mask_miss_features = np.isnan(features_df)\n",
        "mask_missing = np.isnan(numeric_df)\n",
        "numeric_df = numeric_df.fillna(0)\n",
        "merged_df = pd.concat([non_nan_col, numeric_df], axis=1)\n",
        "print(merged_df.shape)\n"
      ]
    },
    {
      "cell_type": "code",
      "execution_count": 30,
      "metadata": {
        "colab": {
          "base_uri": "https://localhost:8080/",
          "height": 458
        },
        "id": "eWofAdYz394H",
        "outputId": "017187dc-2d37-47c0-ea10-30eaf7a98869"
      },
      "outputs": [
        {
          "data": {
            "text/plain": [
              "permno              0\n",
              "date                0\n",
              "prc                 0\n",
              "ret                 0\n",
              "Price               0\n",
              "                   ..\n",
              "EarnSupBig          0\n",
              "EarningsSurprise    0\n",
              "BetaTailRisk        0\n",
              "CBOperProf          0\n",
              "RiskFree            0\n",
              "Length: 120, dtype: int64"
            ]
          },
          "execution_count": 30,
          "metadata": {},
          "output_type": "execute_result"
        }
      ],
      "source": [
        "merged_df.isna().sum()"
      ]
    },
    {
      "cell_type": "code",
      "execution_count": 31,
      "metadata": {},
      "outputs": [
        {
          "name": "stdout",
          "output_type": "stream",
          "text": [
            "permno              0\n",
            "yyyymm              0\n",
            "prc                 0\n",
            "ret                 0\n",
            "Price               0\n",
            "                   ..\n",
            "PctTotAcc           0\n",
            "EarnSupBig          0\n",
            "EarningsSurprise    0\n",
            "BetaTailRisk        0\n",
            "CBOperProf          0\n",
            "Length: 119, dtype: int64\n"
          ]
        }
      ],
      "source": [
        "inf_counts = (df == np.inf).sum() + (df == -np.inf).sum()\n",
        "print(inf_counts)\n"
      ]
    },
    {
      "cell_type": "markdown",
      "metadata": {
        "id": "MoYorNMKqb2q"
      },
      "source": [
        "# CAPM"
      ]
    },
    {
      "cell_type": "markdown",
      "metadata": {
        "id": "BZ988EnzcJAe"
      },
      "source": [
        "CAPM:  E[return] = risk_free + betta*(E[market_ret] - risk_free)\n",
        "\n",
        "\n",
        "E[market_ret] - risk_free is market risk premium"
      ]
    },
    {
      "cell_type": "code",
      "execution_count": 36,
      "metadata": {
        "colab": {
          "base_uri": "https://localhost:8080/"
        },
        "id": "KpvJ4VY4d1Bu",
        "outputId": "6ec7f802-9374-4880-b35a-743ab46b0ba3"
      },
      "outputs": [
        {
          "name": "stdout",
          "output_type": "stream",
          "text": [
            "(500000, 9)\n",
            "Index(['permno', 'date', 'prc', 'ret', 'Price', 'RiskFree', 'ExcessReturn',\n",
            "       'MarketCap', 'MarketReturn_VW'],\n",
            "      dtype='object')\n"
          ]
        },
        {
          "name": "stderr",
          "output_type": "stream",
          "text": [
            "/var/folders/7j/8pz9dqx16j514s66gfbnpf1r0000gn/T/ipykernel_35661/1310584199.py:5: DeprecationWarning: DataFrameGroupBy.apply operated on the grouping columns. This behavior is deprecated, and in a future version of pandas the grouping columns will be excluded from the operation. Either pass `include_groups=False` to exclude the groupings or explicitly select the grouping columns after groupby to silence this warning.\n",
            "  market_returns = df_metrics.groupby('date').apply(\n"
          ]
        },
        {
          "data": {
            "text/html": [
              "<div>\n",
              "<style scoped>\n",
              "    .dataframe tbody tr th:only-of-type {\n",
              "        vertical-align: middle;\n",
              "    }\n",
              "\n",
              "    .dataframe tbody tr th {\n",
              "        vertical-align: top;\n",
              "    }\n",
              "\n",
              "    .dataframe thead th {\n",
              "        text-align: right;\n",
              "    }\n",
              "</style>\n",
              "<table border=\"1\" class=\"dataframe\">\n",
              "  <thead>\n",
              "    <tr style=\"text-align: right;\">\n",
              "      <th></th>\n",
              "      <th>permno</th>\n",
              "      <th>date</th>\n",
              "      <th>prc</th>\n",
              "      <th>ret</th>\n",
              "      <th>Price</th>\n",
              "      <th>RiskFree</th>\n",
              "      <th>ExcessReturn</th>\n",
              "      <th>MarketCap</th>\n",
              "      <th>MarketReturn_VW</th>\n",
              "    </tr>\n",
              "  </thead>\n",
              "  <tbody>\n",
              "    <tr>\n",
              "      <th>0</th>\n",
              "      <td>10659</td>\n",
              "      <td>1991-02-01</td>\n",
              "      <td>-0.17188</td>\n",
              "      <td>-15.3846</td>\n",
              "      <td>1.760959</td>\n",
              "      <td>5.94</td>\n",
              "      <td>-21.3246</td>\n",
              "      <td>0.17188</td>\n",
              "      <td>5.475416</td>\n",
              "    </tr>\n",
              "    <tr>\n",
              "      <th>1</th>\n",
              "      <td>10659</td>\n",
              "      <td>1991-03-01</td>\n",
              "      <td>-0.10938</td>\n",
              "      <td>-36.3636</td>\n",
              "      <td>2.212927</td>\n",
              "      <td>5.91</td>\n",
              "      <td>-42.2736</td>\n",
              "      <td>0.10938</td>\n",
              "      <td>-0.094520</td>\n",
              "    </tr>\n",
              "    <tr>\n",
              "      <th>2</th>\n",
              "      <td>10659</td>\n",
              "      <td>1991-04-01</td>\n",
              "      <td>-0.21875</td>\n",
              "      <td>100.0000</td>\n",
              "      <td>1.519826</td>\n",
              "      <td>5.65</td>\n",
              "      <td>94.3500</td>\n",
              "      <td>0.21875</td>\n",
              "      <td>-2.971900</td>\n",
              "    </tr>\n",
              "    <tr>\n",
              "      <th>3</th>\n",
              "      <td>10659</td>\n",
              "      <td>1991-05-01</td>\n",
              "      <td>-0.21875</td>\n",
              "      <td>0.0000</td>\n",
              "      <td>1.519826</td>\n",
              "      <td>5.46</td>\n",
              "      <td>-5.4600</td>\n",
              "      <td>0.21875</td>\n",
              "      <td>-0.699092</td>\n",
              "    </tr>\n",
              "    <tr>\n",
              "      <th>4</th>\n",
              "      <td>10659</td>\n",
              "      <td>1991-06-01</td>\n",
              "      <td>-0.20313</td>\n",
              "      <td>-7.1429</td>\n",
              "      <td>1.593909</td>\n",
              "      <td>5.57</td>\n",
              "      <td>-12.7129</td>\n",
              "      <td>0.20313</td>\n",
              "      <td>-8.571086</td>\n",
              "    </tr>\n",
              "    <tr>\n",
              "      <th>...</th>\n",
              "      <td>...</td>\n",
              "      <td>...</td>\n",
              "      <td>...</td>\n",
              "      <td>...</td>\n",
              "      <td>...</td>\n",
              "      <td>...</td>\n",
              "      <td>...</td>\n",
              "      <td>...</td>\n",
              "      <td>...</td>\n",
              "    </tr>\n",
              "    <tr>\n",
              "      <th>499995</th>\n",
              "      <td>86223</td>\n",
              "      <td>2022-06-01</td>\n",
              "      <td>24.37000</td>\n",
              "      <td>-11.1233</td>\n",
              "      <td>-3.193353</td>\n",
              "      <td>0.00</td>\n",
              "      <td>-11.1233</td>\n",
              "      <td>24.37000</td>\n",
              "      <td>-5.366093</td>\n",
              "    </tr>\n",
              "    <tr>\n",
              "      <th>499996</th>\n",
              "      <td>86223</td>\n",
              "      <td>2022-07-01</td>\n",
              "      <td>26.73000</td>\n",
              "      <td>11.6331</td>\n",
              "      <td>-3.285787</td>\n",
              "      <td>0.00</td>\n",
              "      <td>11.6331</td>\n",
              "      <td>26.73000</td>\n",
              "      <td>8.384041</td>\n",
              "    </tr>\n",
              "    <tr>\n",
              "      <th>499997</th>\n",
              "      <td>86223</td>\n",
              "      <td>2022-08-01</td>\n",
              "      <td>26.32000</td>\n",
              "      <td>-1.5339</td>\n",
              "      <td>-3.270329</td>\n",
              "      <td>0.00</td>\n",
              "      <td>-1.5339</td>\n",
              "      <td>26.32000</td>\n",
              "      <td>-1.544232</td>\n",
              "    </tr>\n",
              "    <tr>\n",
              "      <th>499998</th>\n",
              "      <td>86223</td>\n",
              "      <td>2022-09-01</td>\n",
              "      <td>23.78000</td>\n",
              "      <td>-9.6505</td>\n",
              "      <td>-3.168845</td>\n",
              "      <td>0.00</td>\n",
              "      <td>-9.6505</td>\n",
              "      <td>23.78000</td>\n",
              "      <td>-8.184954</td>\n",
              "    </tr>\n",
              "    <tr>\n",
              "      <th>499999</th>\n",
              "      <td>86223</td>\n",
              "      <td>2022-10-01</td>\n",
              "      <td>25.25000</td>\n",
              "      <td>8.1791</td>\n",
              "      <td>-3.228826</td>\n",
              "      <td>0.00</td>\n",
              "      <td>8.1791</td>\n",
              "      <td>25.25000</td>\n",
              "      <td>8.593926</td>\n",
              "    </tr>\n",
              "  </tbody>\n",
              "</table>\n",
              "<p>500000 rows × 9 columns</p>\n",
              "</div>"
            ],
            "text/plain": [
              "        permno       date       prc       ret     Price  RiskFree  \\\n",
              "0        10659 1991-02-01  -0.17188  -15.3846  1.760959      5.94   \n",
              "1        10659 1991-03-01  -0.10938  -36.3636  2.212927      5.91   \n",
              "2        10659 1991-04-01  -0.21875  100.0000  1.519826      5.65   \n",
              "3        10659 1991-05-01  -0.21875    0.0000  1.519826      5.46   \n",
              "4        10659 1991-06-01  -0.20313   -7.1429  1.593909      5.57   \n",
              "...        ...        ...       ...       ...       ...       ...   \n",
              "499995   86223 2022-06-01  24.37000  -11.1233 -3.193353      0.00   \n",
              "499996   86223 2022-07-01  26.73000   11.6331 -3.285787      0.00   \n",
              "499997   86223 2022-08-01  26.32000   -1.5339 -3.270329      0.00   \n",
              "499998   86223 2022-09-01  23.78000   -9.6505 -3.168845      0.00   \n",
              "499999   86223 2022-10-01  25.25000    8.1791 -3.228826      0.00   \n",
              "\n",
              "        ExcessReturn  MarketCap  MarketReturn_VW  \n",
              "0           -21.3246    0.17188         5.475416  \n",
              "1           -42.2736    0.10938        -0.094520  \n",
              "2            94.3500    0.21875        -2.971900  \n",
              "3            -5.4600    0.21875        -0.699092  \n",
              "4           -12.7129    0.20313        -8.571086  \n",
              "...              ...        ...              ...  \n",
              "499995      -11.1233   24.37000        -5.366093  \n",
              "499996       11.6331   26.73000         8.384041  \n",
              "499997       -1.5339   26.32000        -1.544232  \n",
              "499998       -9.6505   23.78000        -8.184954  \n",
              "499999        8.1791   25.25000         8.593926  \n",
              "\n",
              "[500000 rows x 9 columns]"
            ]
          },
          "execution_count": 36,
          "metadata": {},
          "output_type": "execute_result"
        }
      ],
      "source": [
        "df_metrics = merged_df[['permno',\t'date',\t'prc',\t'ret',\t'Price','RiskFree']].copy()\n",
        "df_metrics['ExcessReturn'] = df_metrics['ret'] - df_metrics['RiskFree']\n",
        "df_metrics['MarketCap'] = df_metrics['prc'].abs()  # price as a proxy\n",
        "\n",
        "market_returns = df_metrics.groupby('date').apply(\n",
        "    lambda x: np.sum(x['ExcessReturn'] * x['MarketCap']) / np.sum(x['MarketCap'])\n",
        "    if np.sum(x['MarketCap']) > 0 else np.nan\n",
        ").to_dict()\n",
        "\n",
        "# weighted_sum = df_metrics.groupby('date').apply(lambda x: (x['ExcessReturn'] * x['MarketCap']).sum())\n",
        "# total_market_cap = df_metrics.groupby('date')['MarketCap'].sum()\n",
        "# market_returns = (weighted_sum / total_market_cap).to_dict()\n",
        "\n",
        "df_metrics['MarketReturn_VW'] = df_metrics['date'].map(market_returns)\n",
        "print(df_metrics.shape)\n",
        "print(df_metrics.columns)\n",
        "\n",
        "# Sort by date for rolling window calculations\n",
        "df_metrics = df_metrics.sort_values(['permno', 'date'])\n",
        "\n"
      ]
    },
    {
      "cell_type": "code",
      "execution_count": 66,
      "metadata": {},
      "outputs": [
        {
          "name": "stdout",
          "output_type": "stream",
          "text": [
            "price < 0 443766\n",
            "prc < 0 104469\n",
            "ret < 0 216553\n",
            "permno\n",
            "10659    304\n",
            "10660     83\n",
            "10661    460\n",
            "10662     69\n",
            "10664    279\n",
            "        ... \n",
            "86218    298\n",
            "86219     23\n",
            "86221    222\n",
            "86222    306\n",
            "86223    298\n",
            "Length: 3624, dtype: int64\n",
            "permno\n",
            "10659    304\n",
            "10660     83\n",
            "10661    460\n",
            "10662     69\n",
            "10664    279\n",
            "        ... \n",
            "86218    298\n",
            "86219     23\n",
            "86221    222\n",
            "86222    306\n",
            "86223    298\n",
            "Length: 3534, dtype: int64\n"
          ]
        }
      ],
      "source": [
        "print(f'price < 0 {df_metrics['Price'].lt(0).sum()}')\n",
        "print(f'prc < 0 {df_metrics['prc'].lt(0).sum()}')\n",
        "print(f'ret < 0 {df_metrics['ret'].lt(0).sum()}')\n",
        "\n",
        "filtered_df = df_metrics[df_metrics.groupby('permno')['permno'].transform('count') > 3]\n",
        "\n",
        "df_metrics.groupby(by=['permno'], sort=True).count().sort_values('date', ascending=False)\n",
        "\n",
        "\n",
        "group_counts = df_metrics.groupby('permno').size()\n",
        "print(group_counts)\n",
        "valid_permno = group_counts[group_counts > 10]\n",
        "print(valid_permno)\n",
        "\n",
        "\n",
        "\n"
      ]
    },
    {
      "cell_type": "code",
      "execution_count": 67,
      "metadata": {
        "colab": {
          "base_uri": "https://localhost:8080/",
          "height": 423
        },
        "id": "nzyKBpOfLqqW",
        "outputId": "ae9899b8-bdd7-4937-93ce-cbec0d113e87"
      },
      "outputs": [
        {
          "data": {
            "text/html": [
              "<div>\n",
              "<style scoped>\n",
              "    .dataframe tbody tr th:only-of-type {\n",
              "        vertical-align: middle;\n",
              "    }\n",
              "\n",
              "    .dataframe tbody tr th {\n",
              "        vertical-align: top;\n",
              "    }\n",
              "\n",
              "    .dataframe thead th {\n",
              "        text-align: right;\n",
              "    }\n",
              "</style>\n",
              "<table border=\"1\" class=\"dataframe\">\n",
              "  <thead>\n",
              "    <tr style=\"text-align: right;\">\n",
              "      <th></th>\n",
              "      <th>permno</th>\n",
              "      <th>date</th>\n",
              "      <th>prc</th>\n",
              "      <th>ret</th>\n",
              "      <th>Price</th>\n",
              "      <th>RiskFree</th>\n",
              "      <th>ExcessReturn</th>\n",
              "      <th>MarketCap</th>\n",
              "      <th>MarketReturn_VW</th>\n",
              "    </tr>\n",
              "  </thead>\n",
              "  <tbody>\n",
              "    <tr>\n",
              "      <th>0</th>\n",
              "      <td>10659</td>\n",
              "      <td>1991-02-01</td>\n",
              "      <td>-0.17188</td>\n",
              "      <td>-15.3846</td>\n",
              "      <td>1.760959</td>\n",
              "      <td>5.94</td>\n",
              "      <td>-21.3246</td>\n",
              "      <td>0.17188</td>\n",
              "      <td>5.475416</td>\n",
              "    </tr>\n",
              "    <tr>\n",
              "      <th>1</th>\n",
              "      <td>10659</td>\n",
              "      <td>1991-03-01</td>\n",
              "      <td>-0.10938</td>\n",
              "      <td>-36.3636</td>\n",
              "      <td>2.212927</td>\n",
              "      <td>5.91</td>\n",
              "      <td>-42.2736</td>\n",
              "      <td>0.10938</td>\n",
              "      <td>-0.094520</td>\n",
              "    </tr>\n",
              "    <tr>\n",
              "      <th>2</th>\n",
              "      <td>10659</td>\n",
              "      <td>1991-04-01</td>\n",
              "      <td>-0.21875</td>\n",
              "      <td>100.0000</td>\n",
              "      <td>1.519826</td>\n",
              "      <td>5.65</td>\n",
              "      <td>94.3500</td>\n",
              "      <td>0.21875</td>\n",
              "      <td>-2.971900</td>\n",
              "    </tr>\n",
              "    <tr>\n",
              "      <th>3</th>\n",
              "      <td>10659</td>\n",
              "      <td>1991-05-01</td>\n",
              "      <td>-0.21875</td>\n",
              "      <td>0.0000</td>\n",
              "      <td>1.519826</td>\n",
              "      <td>5.46</td>\n",
              "      <td>-5.4600</td>\n",
              "      <td>0.21875</td>\n",
              "      <td>-0.699092</td>\n",
              "    </tr>\n",
              "    <tr>\n",
              "      <th>4</th>\n",
              "      <td>10659</td>\n",
              "      <td>1991-06-01</td>\n",
              "      <td>-0.20313</td>\n",
              "      <td>-7.1429</td>\n",
              "      <td>1.593909</td>\n",
              "      <td>5.57</td>\n",
              "      <td>-12.7129</td>\n",
              "      <td>0.20313</td>\n",
              "      <td>-8.571086</td>\n",
              "    </tr>\n",
              "    <tr>\n",
              "      <th>...</th>\n",
              "      <td>...</td>\n",
              "      <td>...</td>\n",
              "      <td>...</td>\n",
              "      <td>...</td>\n",
              "      <td>...</td>\n",
              "      <td>...</td>\n",
              "      <td>...</td>\n",
              "      <td>...</td>\n",
              "      <td>...</td>\n",
              "    </tr>\n",
              "    <tr>\n",
              "      <th>499995</th>\n",
              "      <td>86223</td>\n",
              "      <td>2022-06-01</td>\n",
              "      <td>24.37000</td>\n",
              "      <td>-11.1233</td>\n",
              "      <td>-3.193353</td>\n",
              "      <td>0.00</td>\n",
              "      <td>-11.1233</td>\n",
              "      <td>24.37000</td>\n",
              "      <td>-5.366093</td>\n",
              "    </tr>\n",
              "    <tr>\n",
              "      <th>499996</th>\n",
              "      <td>86223</td>\n",
              "      <td>2022-07-01</td>\n",
              "      <td>26.73000</td>\n",
              "      <td>11.6331</td>\n",
              "      <td>-3.285787</td>\n",
              "      <td>0.00</td>\n",
              "      <td>11.6331</td>\n",
              "      <td>26.73000</td>\n",
              "      <td>8.384041</td>\n",
              "    </tr>\n",
              "    <tr>\n",
              "      <th>499997</th>\n",
              "      <td>86223</td>\n",
              "      <td>2022-08-01</td>\n",
              "      <td>26.32000</td>\n",
              "      <td>-1.5339</td>\n",
              "      <td>-3.270329</td>\n",
              "      <td>0.00</td>\n",
              "      <td>-1.5339</td>\n",
              "      <td>26.32000</td>\n",
              "      <td>-1.544232</td>\n",
              "    </tr>\n",
              "    <tr>\n",
              "      <th>499998</th>\n",
              "      <td>86223</td>\n",
              "      <td>2022-09-01</td>\n",
              "      <td>23.78000</td>\n",
              "      <td>-9.6505</td>\n",
              "      <td>-3.168845</td>\n",
              "      <td>0.00</td>\n",
              "      <td>-9.6505</td>\n",
              "      <td>23.78000</td>\n",
              "      <td>-8.184954</td>\n",
              "    </tr>\n",
              "    <tr>\n",
              "      <th>499999</th>\n",
              "      <td>86223</td>\n",
              "      <td>2022-10-01</td>\n",
              "      <td>25.25000</td>\n",
              "      <td>8.1791</td>\n",
              "      <td>-3.228826</td>\n",
              "      <td>0.00</td>\n",
              "      <td>8.1791</td>\n",
              "      <td>25.25000</td>\n",
              "      <td>8.593926</td>\n",
              "    </tr>\n",
              "  </tbody>\n",
              "</table>\n",
              "<p>500000 rows × 9 columns</p>\n",
              "</div>"
            ],
            "text/plain": [
              "        permno       date       prc       ret     Price  RiskFree  \\\n",
              "0        10659 1991-02-01  -0.17188  -15.3846  1.760959      5.94   \n",
              "1        10659 1991-03-01  -0.10938  -36.3636  2.212927      5.91   \n",
              "2        10659 1991-04-01  -0.21875  100.0000  1.519826      5.65   \n",
              "3        10659 1991-05-01  -0.21875    0.0000  1.519826      5.46   \n",
              "4        10659 1991-06-01  -0.20313   -7.1429  1.593909      5.57   \n",
              "...        ...        ...       ...       ...       ...       ...   \n",
              "499995   86223 2022-06-01  24.37000  -11.1233 -3.193353      0.00   \n",
              "499996   86223 2022-07-01  26.73000   11.6331 -3.285787      0.00   \n",
              "499997   86223 2022-08-01  26.32000   -1.5339 -3.270329      0.00   \n",
              "499998   86223 2022-09-01  23.78000   -9.6505 -3.168845      0.00   \n",
              "499999   86223 2022-10-01  25.25000    8.1791 -3.228826      0.00   \n",
              "\n",
              "        ExcessReturn  MarketCap  MarketReturn_VW  \n",
              "0           -21.3246    0.17188         5.475416  \n",
              "1           -42.2736    0.10938        -0.094520  \n",
              "2            94.3500    0.21875        -2.971900  \n",
              "3            -5.4600    0.21875        -0.699092  \n",
              "4           -12.7129    0.20313        -8.571086  \n",
              "...              ...        ...              ...  \n",
              "499995      -11.1233   24.37000        -5.366093  \n",
              "499996       11.6331   26.73000         8.384041  \n",
              "499997       -1.5339   26.32000        -1.544232  \n",
              "499998       -9.6505   23.78000        -8.184954  \n",
              "499999        8.1791   25.25000         8.593926  \n",
              "\n",
              "[500000 rows x 9 columns]"
            ]
          },
          "execution_count": 67,
          "metadata": {},
          "output_type": "execute_result"
        }
      ],
      "source": [
        "df_metrics.reset_index(drop=True, inplace=True)\n",
        "df_metrics"
      ]
    },
    {
      "cell_type": "code",
      "execution_count": 68,
      "metadata": {
        "id": "Yo3AV9LOT5AG"
      },
      "outputs": [],
      "source": [
        "import statsmodels.api as sm\n",
        "from tqdm import tqdm\n",
        "\n",
        "# rolling betas with a 36-month window\n",
        "window_size = 36 # for estimation of beta based on previous 3 years\n",
        "predictions = {}\n",
        "batch_size = 5000\n",
        "\n",
        "# # dictionary of date-market_return for faster lookups\n",
        "# market_returns_dict = df_metrics[['date', 'MarketReturn_VW']].drop_duplicates().set_index('date')['MarketReturn_VW'].to_dict()\n",
        "\n",
        "# TODO optimize taking too long\n",
        "def process_stock_group(stock_group):\n",
        "    for permno, group in stock_group.groupby('permno'):\n",
        "        if len(group) <= window_size:\n",
        "            continue\n",
        "        for i in range(window_size, len(group)):\n",
        "            current_date = group.iloc[i]['date']\n",
        "            historical_data = group.iloc[i-window_size:i]\n",
        "\n",
        "            if len(historical_data) < window_size / 2 or historical_data[['ExcessReturn', 'MarketReturn_VW']].isnull().values.any():\n",
        "                continue\n",
        "\n",
        "            # Estimating beta using OLS regression\n",
        "            X = historical_data[['MarketReturn_VW']]\n",
        "            X = sm.add_constant(X)\n",
        "            y = historical_data['ExcessReturn']\n",
        "\n",
        "            try:\n",
        "                model = sm.OLS(y, X).fit()\n",
        "                alpha = model.params.iloc[0]\n",
        "                beta = model.params.iloc[1]\n",
        "\n",
        "                # prediction for curr date\n",
        "                market_premium = group.iloc[i]['MarketReturn_VW']\n",
        "                prediction = alpha + beta * market_premium\n",
        "\n",
        "                predictions[(permno, current_date)] = prediction\n",
        "            except:\n",
        "                continue\n"
      ]
    },
    {
      "cell_type": "code",
      "execution_count": null,
      "metadata": {
        "colab": {
          "base_uri": "https://localhost:8080/"
        },
        "collapsed": true,
        "id": "-W2SGAJGUzAn",
        "outputId": "dcd7ed6f-082a-4ac2-a570-192b85892bc4"
      },
      "outputs": [
        {
          "name": "stderr",
          "output_type": "stream",
          "text": [
            "Processing Batches:   0%|          | 0/1 [00:00<?, ?it/s]"
          ]
        },
        {
          "name": "stdout",
          "output_type": "stream",
          "text": [
            "0\n"
          ]
        }
      ],
      "source": [
        "unique_stocks = df_metrics['permno'].unique()\n",
        "print(unique_stocks)\n",
        "num_batches = (len(unique_stocks) + batch_size - 1) // batch_size\n",
        "\n",
        "for batch_num in tqdm(range(num_batches), total=num_batches, desc=\"Processing Batches\"):\n",
        "    print(batch_num)\n",
        "    start_idx = batch_num * batch_size\n",
        "    end_idx = min((batch_num + 1) * batch_size, len(unique_stocks))\n",
        "    batch_stocks = unique_stocks[start_idx:end_idx]\n",
        "    batch_data = df_metrics[df_metrics['permno'].isin(batch_stocks)]\n",
        "    process_stock_group(batch_data)\n",
        "\n",
        "predictions_df = pd.DataFrame([\n",
        "    {'permno': key[0], 'date': key[1], 'CAPM_Predicted': value}\n",
        "    for key, value in predictions.items()\n",
        "])\n",
        "\n",
        "predictions_df['permno'] = predictions_df['permno'].astype(df_metrics['permno'].dtype)\n",
        "predictions_df['date'] = predictions_df['date'].astype(df_metrics['date'].dtype)\n",
        "\n",
        "df_metrics_with_predictions = df_metrics.merge(\n",
        "    predictions_df,\n",
        "    on=['permno', 'date'],\n",
        "    how='left'\n",
        ")\n"
      ]
    },
    {
      "cell_type": "code",
      "execution_count": null,
      "metadata": {
        "colab": {
          "base_uri": "https://localhost:8080/"
        },
        "id": "aFB3Pa4mYLTb",
        "outputId": "1cae27f7-4194-4fac-acf4-7a07273d9f60"
      },
      "outputs": [
        {
          "name": "stdout",
          "output_type": "stream",
          "text": [
            "Successfully merged 451085 predictions with df_metrics\n",
            "CAPM Benchmark Out-of-Sample R²: 0.032\n",
            "Number of observations used for evaluation: 451085\n"
          ]
        }
      ],
      "source": [
        "prediction_count = df_metrics_with_predictions['CAPM_Predicted'].notna().sum()\n",
        "print(f\"Successfully merged {prediction_count} predictions with df_metrics\")\n",
        "\n",
        "# Calculate performance metrics for the CAPM model\n",
        "valid_predictions = df_metrics_with_predictions.dropna(subset=['CAPM_Predicted', 'ExcessReturn'])\n",
        "\n",
        "# Calculate R²\n",
        "# check if this is correct\n",
        "sse = np.sum((valid_predictions['ExcessReturn'] - valid_predictions['CAPM_Predicted'])**2)\n",
        "sst = np.sum(valid_predictions['ExcessReturn']**2)\n",
        "r2_oos = 1 - (sse / sst)\n",
        "\n",
        "print(f\"CAPM Benchmark Out-of-Sample R²: {r2_oos:.3f}\")\n",
        "print(f\"Number of observations used for evaluation: {len(valid_predictions)}\")\n"
      ]
    },
    {
      "cell_type": "markdown",
      "metadata": {
        "id": "XMDngS6dD4Yu"
      },
      "source": [
        "# End of CAPM\n"
      ]
    },
    {
      "cell_type": "code",
      "execution_count": null,
      "metadata": {
        "id": "tDVmPPw4djou"
      },
      "outputs": [],
      "source": [
        "merged_df['ExcessReturn'] = merged_df['ret'] - merged_df['RiskFree']\n",
        "\n",
        "merged_df['date'] = pd.to_datetime(merged_df['date'].astype(str), format='%Y-%m-%d')\n"
      ]
    },
    {
      "cell_type": "code",
      "execution_count": 1,
      "metadata": {
        "colab": {
          "base_uri": "https://localhost:8080/",
          "height": 159
        },
        "id": "eywLcO0phLdj",
        "outputId": "a4c287a1-ba6f-4633-a7f1-c775db585fff"
      },
      "outputs": [
        {
          "ename": "NameError",
          "evalue": "name 'merged_df' is not defined",
          "output_type": "error",
          "traceback": [
            "\u001b[0;31m---------------------------------------------------------------------------\u001b[0m",
            "\u001b[0;31mNameError\u001b[0m                                 Traceback (most recent call last)",
            "\u001b[0;32m<ipython-input-1-04c50cb6c971>\u001b[0m in \u001b[0;36m<cell line: 0>\u001b[0;34m()\u001b[0m\n\u001b[0;32m----> 1\u001b[0;31m \u001b[0mpredictor_vars\u001b[0m \u001b[0;34m=\u001b[0m \u001b[0;34m[\u001b[0m\u001b[0mc\u001b[0m \u001b[0;32mfor\u001b[0m \u001b[0mc\u001b[0m \u001b[0;32min\u001b[0m \u001b[0mmerged_df\u001b[0m\u001b[0;34m.\u001b[0m\u001b[0mcolumns\u001b[0m \u001b[0;32mif\u001b[0m \u001b[0mc\u001b[0m \u001b[0;32mnot\u001b[0m \u001b[0;32min\u001b[0m \u001b[0;34m[\u001b[0m\u001b[0;34m'permno'\u001b[0m\u001b[0;34m,\u001b[0m   \u001b[0;34m'date'\u001b[0m\u001b[0;34m,\u001b[0m \u001b[0;34m'prc'\u001b[0m\u001b[0;34m,\u001b[0m  \u001b[0;34m'ret'\u001b[0m\u001b[0;34m,\u001b[0m  \u001b[0;34m'Price'\u001b[0m\u001b[0;34m,\u001b[0m \u001b[0;34m'RiskFree'\u001b[0m\u001b[0;34m,\u001b[0m \u001b[0;34m'ExcessReturn'\u001b[0m\u001b[0;34m]\u001b[0m\u001b[0;34m]\u001b[0m\u001b[0;34m\u001b[0m\u001b[0;34m\u001b[0m\u001b[0m\n\u001b[0m\u001b[1;32m      2\u001b[0m \u001b[0mlen\u001b[0m\u001b[0;34m(\u001b[0m\u001b[0mpredictor_vars\u001b[0m\u001b[0;34m)\u001b[0m\u001b[0;34m\u001b[0m\u001b[0;34m\u001b[0m\u001b[0m\n",
            "\u001b[0;31mNameError\u001b[0m: name 'merged_df' is not defined"
          ]
        }
      ],
      "source": [
        "predictor_vars = [c for c in merged_df.columns if c not in ['permno',\t'date',\t'prc',\t'ret',\t'Price', 'RiskFree', 'ExcessReturn']]\n",
        "len(predictor_vars)"
      ]
    },
    {
      "cell_type": "markdown",
      "metadata": {
        "id": "JXu38JDH5wAE"
      },
      "source": [
        "# Scaling"
      ]
    },
    {
      "cell_type": "code",
      "execution_count": null,
      "metadata": {
        "id": "vUPBT03NnWw7"
      },
      "outputs": [],
      "source": [
        "from sklearn.preprocessing import MinMaxScaler\n",
        "\n",
        "scaler = MinMaxScaler(feature_range=(-1, 1))\n",
        "\n",
        "# our data is 1990-2000\n",
        "train_end = '1995-12-31'\n",
        "valid_end = '1997-12-31'\n",
        "\n",
        "# Create masks for each period\n",
        "train_mask = merged_df['date'] <= train_end\n",
        "valid_mask = (merged_df['date'] > train_end) & (merged_df['date'] <= valid_end)\n",
        "test_mask = merged_df['date'] > valid_end\n"
      ]
    },
    {
      "cell_type": "code",
      "execution_count": null,
      "metadata": {
        "id": "70UhmElx0QJA"
      },
      "outputs": [],
      "source": [
        "# Extract features and target for each period\n",
        "X_train = merged_df.loc[train_mask, predictor_vars]\n",
        "X_valid = merged_df.loc[valid_mask, predictor_vars]\n",
        "X_test = merged_df.loc[test_mask, predictor_vars]\n",
        "\n",
        "y_train = merged_df.loc[train_mask, 'ExcessReturn']\n",
        "y_valid = merged_df.loc[valid_mask, 'ExcessReturn']\n",
        "y_test = merged_df.loc[test_mask, 'ExcessReturn']"
      ]
    },
    {
      "cell_type": "code",
      "execution_count": null,
      "metadata": {
        "id": "1JNhNEH02ATk"
      },
      "outputs": [],
      "source": [
        "X_train_scaled = scaler.fit_transform(X_train)\n",
        "\n",
        "# Apply same transformation to validation and test\n",
        "X_valid_scaled = scaler.transform(X_valid)\n",
        "X_test_scaled = scaler.transform(X_test)\n"
      ]
    },
    {
      "cell_type": "code",
      "execution_count": null,
      "metadata": {
        "colab": {
          "base_uri": "https://localhost:8080/"
        },
        "id": "qwk4P5ur2Hy0",
        "outputId": "fee6e361-8a4e-4133-e0f2-e3856789cd42"
      },
      "outputs": [
        {
          "name": "stdout",
          "output_type": "stream",
          "text": [
            "\n",
            "Training dataset:\n",
            "Min values: -1.0000\n",
            "Max values: 1.0000\n",
            "NaN count: 0\n",
            "\n",
            "Validation dataset:\n",
            "Min values: -1.0000\n",
            "Max values: 1.0000\n",
            "NaN count: 0\n",
            "\n",
            "Testing dataset:\n",
            "Min values: -1.0000\n",
            "Max values: 1.0000\n",
            "NaN count: 0\n"
          ]
        }
      ],
      "source": [
        "# Clip validation and test to [-1, 1] to handle outliers\n",
        "X_valid_scaled = np.clip(X_valid_scaled, -1, 1)\n",
        "X_test_scaled = np.clip(X_test_scaled, -1, 1)\n",
        "\n",
        "# Convert back to DataFrames\n",
        "X_train_processed = pd.DataFrame(X_train_scaled, columns=predictor_vars, index=X_train.index)\n",
        "X_valid_processed = pd.DataFrame(X_valid_scaled, columns=predictor_vars, index=X_valid.index)\n",
        "X_test_processed = pd.DataFrame(X_test_scaled, columns=predictor_vars, index=X_test.index)\n",
        "\n",
        "# Step 5: Replace NaNs with 0 in the scaled space\n",
        "# First, identify which positions were originally NaN\n",
        "train_nan_mask = X_train.isna()\n",
        "valid_nan_mask = X_valid.isna()\n",
        "test_nan_mask = X_test.isna()\n",
        "\n",
        "# Then set those positions to 0\n",
        "for col in predictor_vars:\n",
        "    X_train_processed.loc[train_nan_mask[col], col] = 0\n",
        "    X_valid_processed.loc[valid_nan_mask[col], col] = 0\n",
        "    X_test_processed.loc[test_nan_mask[col], col] = 0\n",
        "\n",
        "# Check results\n",
        "for dataset, name in [(X_train_processed, \"Training\"),\n",
        "                      (X_valid_processed, \"Validation\"),\n",
        "                      (X_test_processed, \"Testing\")]:\n",
        "    print(f\"\\n{name} dataset:\")\n",
        "    print(f\"Min values: {dataset.min().min():.4f}\")\n",
        "    print(f\"Max values: {dataset.max().max():.4f}\")\n",
        "    print(f\"NaN count: {dataset.isna().sum().sum()}\")"
      ]
    },
    {
      "cell_type": "code",
      "execution_count": null,
      "metadata": {
        "id": "vTBaFBkP315E"
      },
      "outputs": [],
      "source": [
        "from sklearn.linear_model import LinearRegression, Ridge, Lasso, ElasticNet\n",
        "from sklearn.ensemble import RandomForestRegressor, GradientBoostingRegressor\n",
        "from sklearn.metrics import mean_squared_error, r2_score\n",
        "import numpy as np\n",
        "import pandas as pd\n",
        "from tqdm import tqdm\n",
        "import time\n",
        "import os\n",
        "\n",
        "# Check for GPU availability\n",
        "try:\n",
        "    import torch\n",
        "    gpu_available = torch.cuda.is_available()\n",
        "    if gpu_available:\n",
        "        gpu_name = torch.cuda.get_device_name(0)\n",
        "except ImportError:\n",
        "    gpu_available = False\n"
      ]
    },
    {
      "cell_type": "code",
      "execution_count": null,
      "metadata": {
        "id": "yXpz0wt0hjIK"
      },
      "outputs": [],
      "source": [
        "# Function to calculate out-of-sample R² (as used in GKX paper)\n",
        "def r2_oos(y_true, y_pred):\n",
        "    return 1 - np.sum((y_true - y_pred)**2) / np.sum(y_true**2)\n",
        "\n",
        "def evaluate_model(model, model_name, X_train, y_train, X_valid, y_valid, X_test, y_test):\n",
        "    print(f\"\\nTraining {model_name}...\")\n",
        "    start_time = time.time()\n",
        "\n",
        "    model.fit(X_train, y_train)\n",
        "\n",
        "    train_time = time.time() - start_time\n",
        "    print(f\"Training completed in {train_time:.2f} seconds\")\n",
        "\n",
        "    print(\"Generating predictions...\")\n",
        "    start_time = time.time()\n",
        "\n",
        "    valid_pred = model.predict(X_valid)\n",
        "    test_pred = model.predict(X_test)\n",
        "\n",
        "    pred_time = time.time() - start_time\n",
        "    print(f\"Prediction completed in {pred_time:.2f} seconds\")\n",
        "\n",
        "    print(\"Calculating metrics...\")\n",
        "    results = {\n",
        "        'valid_mse': mean_squared_error(y_valid, valid_pred),\n",
        "        'valid_r2_oos': r2_oos(y_valid, valid_pred),\n",
        "        'test_mse': mean_squared_error(y_test, test_pred),\n",
        "        'test_r2_oos': r2_oos(y_test, test_pred),\n",
        "        'train_time': train_time,\n",
        "        'pred_time': pred_time\n",
        "    }\n",
        "\n",
        "    results['valid_pred'] = valid_pred\n",
        "    results['test_pred'] = test_pred\n",
        "\n",
        "    print(f\"{model_name} - Valid R² OOS: {results['valid_r2_oos']:.6f}, Test R² OOS: {results['test_r2_oos']:.6f}\")\n",
        "\n",
        "    return results"
      ]
    },
    {
      "cell_type": "code",
      "execution_count": null,
      "metadata": {
        "colab": {
          "base_uri": "https://localhost:8080/"
        },
        "id": "ADHBgiP5hsVY",
        "outputId": "251457ba-9624-4cf9-bcae-13f14c6c14a6"
      },
      "outputs": [
        {
          "name": "stdout",
          "output_type": "stream",
          "text": [
            "\n",
            "Starting model training and evaluation...\n",
            "Dataset sizes - Training: (525397, 114), Validation: (213285, 114), Testing: (309275, 114)\n"
          ]
        },
        {
          "name": "stderr",
          "output_type": "stream",
          "text": [
            "\rModels:   0%|          | 0/1 [00:00<?, ?it/s]"
          ]
        },
        {
          "name": "stdout",
          "output_type": "stream",
          "text": [
            "\n",
            "Training Linear Regression...\n"
          ]
        },
        {
          "name": "stderr",
          "output_type": "stream",
          "text": [
            "Models: 100%|██████████| 1/1 [00:13<00:00, 13.27s/it]"
          ]
        },
        {
          "name": "stdout",
          "output_type": "stream",
          "text": [
            "Training completed in 13.07 seconds\n",
            "Generating predictions...\n",
            "Prediction completed in 0.18 seconds\n",
            "Calculating metrics...\n",
            "Linear Regression - Valid R² OOS: 0.998550, Test R² OOS: 0.998262\n"
          ]
        },
        {
          "name": "stderr",
          "output_type": "stream",
          "text": [
            "\n"
          ]
        }
      ],
      "source": [
        "model_results = {}\n",
        "\n",
        "models = {\n",
        "    'Linear Regression': LinearRegression()\n",
        "    # 'Ridge': Ridge(alpha=1.0),\n",
        "    # 'Lasso': Lasso(alpha=0.01, max_iter=10000),\n",
        "    # 'Elastic Net': ElasticNet(alpha=0.01, l1_ratio=0.5, max_iter=10000),\n",
        "    # 'Random Forest': RandomForestRegressor(n_estimators=100, max_depth=10, random_state=42, n_jobs=-1),\n",
        "    # 'Gradient Boosting': GradientBoostingRegressor(n_estimators=100, max_depth=3, random_state=42)\n",
        "}\n",
        "\n",
        "print(f\"\\nStarting model training and evaluation...\")\n",
        "print(f\"Dataset sizes - Training: {X_train_processed.shape}, Validation: {X_valid_processed.shape}, Testing: {X_test_processed.shape}\")\n",
        "\n",
        "for name in tqdm(list(models.keys()), desc=\"Models\"):\n",
        "    model = models[name]\n",
        "    model_results[name] = evaluate_model(\n",
        "        model, name,\n",
        "        X_train_processed, y_train,\n",
        "        X_valid_processed, y_valid,\n",
        "        X_test_processed, y_test\n",
        "    )\n",
        "\n"
      ]
    },
    {
      "cell_type": "code",
      "execution_count": null,
      "metadata": {
        "id": "S90A7B0bh1Vo"
      },
      "outputs": [],
      "source": [
        "print(\"\\nModel Comparison (Test R² OOS):\")\n",
        "for name, results in model_results.items():\n",
        "    print(f\"{name}: {results['test_r2_oos']:.6f} (Training: {results['train_time']:.2f}s, Prediction: {results['pred_time']:.2f}s)\")\n",
        "\n"
      ]
    },
    {
      "cell_type": "code",
      "execution_count": null,
      "metadata": {
        "id": "M-8hUF9qh3wy"
      },
      "outputs": [],
      "source": [
        "# Feature importance for tree-based models\n",
        "if 'Random Forest' in model_results:\n",
        "    rf_model = models['Random Forest']\n",
        "    rf_importances = pd.DataFrame({\n",
        "        'feature': predictor_vars,\n",
        "        'importance': rf_model.feature_importances_\n",
        "    }).sort_values('importance', ascending=False)\n",
        "\n",
        "    print(\"\\nTop 10 Important Features (Random Forest):\")\n",
        "    print(rf_importances.head(10))\n",
        "\n",
        "if 'Gradient Boosting' in model_results:\n",
        "    gb_model = models['Gradient Boosting']\n",
        "    gb_importances = pd.DataFrame({\n",
        "        'feature': predictor_vars,\n",
        "        'importance': gb_model.feature_importances_\n",
        "    }).sort_values('importance', ascending=False)\n",
        "\n",
        "    print(\"\\nTop 10 Important Features (Gradient Boosting):\")\n",
        "    print(gb_importances.head(10))\n",
        "\n",
        "# System resource information\n",
        "print(\"\\nSystem Resource Information:\")\n",
        "print(f\"Memory usage of training data: {X_train_processed.memory_usage().sum() / (1024**2):.2f} MB\")\n",
        "print(f\"Number of processors: {os.cpu_count()}\")"
      ]
    }
  ],
  "metadata": {
    "accelerator": "GPU",
    "colab": {
      "collapsed_sections": [
        "1I5niSSho3yg"
      ],
      "gpuType": "T4",
      "provenance": [],
      "toc_visible": true
    },
    "kernelspec": {
      "display_name": "env",
      "language": "python",
      "name": "python3"
    },
    "language_info": {
      "codemirror_mode": {
        "name": "ipython",
        "version": 3
      },
      "file_extension": ".py",
      "mimetype": "text/x-python",
      "name": "python",
      "nbconvert_exporter": "python",
      "pygments_lexer": "ipython3",
      "version": "3.12.7"
    }
  },
  "nbformat": 4,
  "nbformat_minor": 0
}
